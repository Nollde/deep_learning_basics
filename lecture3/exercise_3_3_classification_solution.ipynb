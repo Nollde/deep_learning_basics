{
 "cells": [
  {
   "cell_type": "markdown",
   "id": "93c2f0ba",
   "metadata": {},
   "source": [
    "# Classification with DNN and Pen&Paper\n",
    "\n",
    "In this task we will explore the analytic solution of DNN classifications.\n",
    "\n",
    "## Introduction\n",
    "We will create data from two Gaussian distributions and train a classification between them.\n",
    "In parallel we will take pen and paper to calculate the solution of the classification.\n",
    "Then we will compare the results of our network training and our pen and paper calculation."
   ]
  },
  {
   "cell_type": "code",
   "execution_count": 43,
   "id": "20329dfd",
   "metadata": {},
   "outputs": [],
   "source": [
    "import numpy as np\n",
    "from matplotlib import pyplot as plt\n",
    "import tensorflow as tf"
   ]
  },
  {
   "cell_type": "markdown",
   "id": "df4f97e5",
   "metadata": {},
   "source": [
    "## Creating and plotting the data\n",
    "First we fix the parametrisation of our Gaussian distributions (A and B) and create the data."
   ]
  },
  {
   "cell_type": "code",
   "execution_count": 44,
   "id": "6c92b864",
   "metadata": {},
   "outputs": [],
   "source": [
    "# parametrisation of the underlying probability distributions\n",
    "loc_a, scale_a = 0, 1.5\n",
    "loc_b, scale_b = 1, 1.2\n",
    "\n",
    "# creating the data\n",
    "a = np.random.normal(loc=loc_a, scale=scale_a, size=(100000,))\n",
    "b = np.random.normal(loc=loc_b, scale=scale_b, size=(100000,))"
   ]
  },
  {
   "cell_type": "markdown",
   "id": "2890ec5b",
   "metadata": {},
   "source": [
    "We bin the data in histograms with equidistant bins, plot the histograms and plot (parts of) the raw data."
   ]
  },
  {
   "cell_type": "code",
   "execution_count": 45,
   "id": "f687f21b",
   "metadata": {},
   "outputs": [
    {
     "data": {
      "text/plain": [
       "<matplotlib.legend.Legend at 0x7f9211e57c70>"
      ]
     },
     "execution_count": 45,
     "metadata": {},
     "output_type": "execute_result"
    },
    {
     "data": {
      "image/png": "[encoded data removed]",
      "text/plain": [
       "<Figure size 432x288 with 2 Axes>"
      ]
     },
     "metadata": {
      "needs_background": "light"
     },
     "output_type": "display_data"
    }
   ],
   "source": [
    "# creating the figure\n",
    "fig, (ax1, ax2) = plt.subplots(nrows=2, ncols=1, sharex='col', gridspec_kw={'height_ratios': [2, 1], \"hspace\": 0})\n",
    "\n",
    "# plot histograms\n",
    "hist_a, bins_a, _ = ax1.hist(a, bins=np.arange(-4, 4.4, 0.4), alpha=0.5, label=\"Distribution A\")\n",
    "hist_b, bins_b, _ = ax1.hist(b, bins=bins_a, alpha=0.5, label=\"Distribution B\")\n",
    "\n",
    "# plot 1000 example points\n",
    "ax2.plot(a[:1000], np.zeros_like(a)[:1000], linestyle=\"None\", marker=\"|\", alpha=0.1)\n",
    "ax2.plot(b[:1000], np.zeros_like(b)[:1000], linestyle=\"None\", marker=\"|\", alpha=0.1)\n",
    "\n",
    "# styling plot\n",
    "ax2.axes.get_yaxis().set_visible(False)\n",
    "ax2.set_xlabel(\"x\")\n",
    "ax1.set_ylabel(\"Counts [#]\")\n",
    "ax2.set_xlim([-4, 4])\n",
    "ax1.legend()"
   ]
  },
  {
   "cell_type": "markdown",
   "id": "d78ecea0",
   "metadata": {},
   "source": [
    "## DNN based Classification\n",
    "\n",
    "Now create a DNN model for the classification between Distribution A and Distribution B.\n",
    "- How many inputs do we have?\n",
    "- How many outputs do we have?\n",
    "- How many layers with which activation funcitons do we need?\n",
    "- Does the network output probabilities or logits?"
   ]
  },
  {
   "cell_type": "code",
   "execution_count": 46,
   "id": "7dbbc75c",
   "metadata": {},
   "outputs": [],
   "source": [
    "\"\"\"\n",
    "TODO: Create the model\n",
    "\"\"\"\n",
    "model = tf.keras.Sequential(\n",
    "    layers=[\n",
    "        tf.keras.Input(shape=(1,)),\n",
    "        tf.keras.layers.Dense(30, activation=\"relu\"),\n",
    "        tf.keras.layers.Dense(30, activation=\"relu\"),\n",
    "        tf.keras.layers.Dense(1, activation=\"sigmoid\"),\n",
    "    ]\n",
    ")"
   ]
  },
  {
   "cell_type": "markdown",
   "id": "3131b396",
   "metadata": {},
   "source": [
    "Now compile the model.\n",
    "- Which loss function do we want?\n",
    "- Which optimizer do we want?"
   ]
  },
  {
   "cell_type": "code",
   "execution_count": 47,
   "id": "52114d30",
   "metadata": {},
   "outputs": [],
   "source": [
    "\"\"\"\n",
    "TODO: Compile the model\n",
    "\"\"\"\n",
    "optimizer = \"sgd\"\n",
    "loss = tf.keras.losses.BinaryCrossentropy(from_logits=False)\n",
    "model.compile(optimizer=optimizer, loss=loss, metrics=[\"accuracy\"])"
   ]
  },
  {
   "cell_type": "markdown",
   "id": "51d8dee9",
   "metadata": {},
   "source": [
    "Look at the model summary to see how many trainable parameters or model has."
   ]
  },
  {
   "cell_type": "code",
   "execution_count": 48,
   "id": "0e8cd8a5",
   "metadata": {
    "scrolled": true
   },
   "outputs": [
    {
     "name": "stdout",
     "output_type": "stream",
     "text": [
      "Model: \"sequential_1\"\n",
      "_________________________________________________________________\n",
      "Layer (type)                 Output Shape              Param #   \n",
      "=================================================================\n",
      "dense_3 (Dense)              (None, 30)                60        \n",
      "_________________________________________________________________\n",
      "dense_4 (Dense)              (None, 30)                930       \n",
      "_________________________________________________________________\n",
      "dense_5 (Dense)              (None, 1)                 31        \n",
      "=================================================================\n",
      "Total params: 1,021\n",
      "Trainable params: 1,021\n",
      "Non-trainable params: 0\n",
      "_________________________________________________________________\n"
     ]
    }
   ],
   "source": [
    "model.summary()"
   ]
  },
  {
   "cell_type": "markdown",
   "id": "664744b9",
   "metadata": {},
   "source": [
    "Now we prepare the data for the training by interleaving datasets A and B and shuffling the data."
   ]
  },
  {
   "cell_type": "code",
   "execution_count": 49,
   "id": "47253403",
   "metadata": {},
   "outputs": [],
   "source": [
    "# prepare the data for training (interleave+shuffle)\n",
    "x = np.concatenate([a, b])\n",
    "y = np.concatenate([np.ones_like(a), np.zeros_like(b)])\n",
    "p = np.random.permutation(len(x))\n",
    "x, y = x[p], y[p]"
   ]
  },
  {
   "cell_type": "markdown",
   "id": "85757895",
   "metadata": {},
   "source": [
    "Now we fit the model to the training data:"
   ]
  },
  {
   "cell_type": "code",
   "execution_count": 50,
   "id": "7013e12d",
   "metadata": {},
   "outputs": [
    {
     "name": "stdout",
     "output_type": "stream",
     "text": [
      "Epoch 1/5\n",
      "5000/5000 [==============================] - 7s 1ms/step - loss: 0.6348 - accuracy: 0.6359 - val_loss: 0.6210 - val_accuracy: 0.6504\n",
      "Epoch 2/5\n",
      "5000/5000 [==============================] - 5s 1ms/step - loss: 0.6214 - accuracy: 0.6501 - val_loss: 0.6208 - val_accuracy: 0.6507\n",
      "Epoch 3/5\n",
      "5000/5000 [==============================] - 6s 1ms/step - loss: 0.6217 - accuracy: 0.6486 - val_loss: 0.6205 - val_accuracy: 0.6509\n",
      "Epoch 4/5\n",
      "5000/5000 [==============================] - 6s 1ms/step - loss: 0.6208 - accuracy: 0.6494 - val_loss: 0.6205 - val_accuracy: 0.6510\n",
      "Epoch 5/5\n",
      "5000/5000 [==============================] - 6s 1ms/step - loss: 0.6217 - accuracy: 0.6503 - val_loss: 0.6204 - val_accuracy: 0.6508\n"
     ]
    },
    {
     "data": {
      "text/plain": [
       "<tensorflow.python.keras.callbacks.History at 0x7f9211fa5850>"
      ]
     },
     "execution_count": 50,
     "metadata": {},
     "output_type": "execute_result"
    }
   ],
   "source": [
    "# fit the model\n",
    "model.fit(x=x, y=y, epochs=5, validation_split=0.2)"
   ]
  },
  {
   "cell_type": "markdown",
   "id": "31e4e01b",
   "metadata": {},
   "source": [
    "## Plotting and Results\n",
    "In the following cells we will plot the analytic solution, our training solution and the analytic solution using the actual data distributions which were used for the training."
   ]
  },
  {
   "cell_type": "code",
   "execution_count": 51,
   "id": "3056147d",
   "metadata": {},
   "outputs": [],
   "source": [
    "# define x_values for inference and plotting\n",
    "x_values = np.arange(-4, 4.01, 0.01)[:, None]"
   ]
  },
  {
   "cell_type": "code",
   "execution_count": 52,
   "id": "160928b9",
   "metadata": {},
   "outputs": [],
   "source": [
    "# analytic solution\n",
    "def gaussian(x, loc, scale):\n",
    "    return 1 / np.sqrt(2 * np.pi * scale ** 2) * np.exp(-((x - loc) ** 2) / (2 * scale ** 2))\n",
    "\n",
    "gauss_a = gaussian(x_values, loc=loc_a, scale=scale_a)\n",
    "gauss_b = gaussian(x_values, loc=loc_b, scale=scale_b)\n",
    "analytic = gauss_a / (gauss_a + gauss_b)"
   ]
  },
  {
   "cell_type": "code",
   "execution_count": 53,
   "id": "7d2b85be",
   "metadata": {},
   "outputs": [],
   "source": [
    "# classic solution by histogram division\n",
    "hist = hist_a / (hist_a + hist_b)"
   ]
  },
  {
   "cell_type": "code",
   "execution_count": 54,
   "id": "eb42db1a",
   "metadata": {},
   "outputs": [],
   "source": [
    "# DNN based classification solution\n",
    "pred = model.predict(x_values)"
   ]
  },
  {
   "cell_type": "code",
   "execution_count": 55,
   "id": "86373833",
   "metadata": {
    "scrolled": true
   },
   "outputs": [
    {
     "data": {
      "text/plain": [
       "<matplotlib.legend.Legend at 0x7f9211204e80>"
      ]
     },
     "execution_count": 55,
     "metadata": {},
     "output_type": "execute_result"
    },
    {
     "data": {
      "image/png": "[encoded data removed]",
      "text/plain": [
       "<Figure size 432x288 with 1 Axes>"
      ]
     },
     "metadata": {
      "needs_background": "light"
     },
     "output_type": "display_data"
    }
   ],
   "source": [
    "# plot all the infered ratios\n",
    "plt.plot(x_values, analytic, label=\"Analytic\", color=\"black\", linestyle=\"--\")\n",
    "plt.plot((bins_a[1:]+bins_a[:-1])/2, hist, label=\"Hist\")\n",
    "plt.plot(x_values, pred, label=\"DNN\", color=\"red\")\n",
    "plt.xlabel(\"x\")\n",
    "plt.ylabel(\"Ratio A/(A+B)\")\n",
    "plt.xlim([-4, 4])\n",
    "plt.legend()"
   ]
  },
  {
   "cell_type": "markdown",
   "id": "0742090c",
   "metadata": {},
   "source": [
    "As you can see, the all three distributions match quite well!"
   ]
  },
  {
   "cell_type": "markdown",
   "id": "ef7e916c",
   "metadata": {},
   "source": [
    "## Summary\n",
    "\n",
    "This concludes our tutorial for today.\n",
    "\n",
    "In this tutorial you learned:\n",
    "- How to train a neural network based classification task\n",
    "- How to predict the output of the trained network using pen and paper"
   ]
  },
  {
   "cell_type": "code",
   "execution_count": null,
   "id": "b42625de",
   "metadata": {},
   "outputs": [],
   "source": []
  }
 ],
 "metadata": {
  "kernelspec": {
   "display_name": "Python 3 (ipykernel)",
   "language": "python",
   "name": "python3"
  },
  "language_info": {
   "codemirror_mode": {
    "name": "ipython",
    "version": 3
   },
   "file_extension": ".py",
   "mimetype": "text/x-python",
   "name": "python",
   "nbconvert_exporter": "python",
   "pygments_lexer": "ipython3",
   "version": "3.8.8"
  }
 },
 "nbformat": 4,
 "nbformat_minor": 5
}
