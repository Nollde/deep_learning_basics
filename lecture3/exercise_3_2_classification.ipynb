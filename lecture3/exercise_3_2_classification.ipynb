{
 "cells": [
  {
   "cell_type": "markdown",
   "id": "e703cbc8",
   "metadata": {},
   "source": [
    "# Classification between Two Classes\n",
    "In this exercise, we will learn how to perform a binary classification.\n",
    "\n",
    "## Introduction\n",
    "You are given data from two classes. In each class the data follows a distribution out of one or many gaussian distributions with class dependent parameters. Your task is to build a model which can classify between the two classes."
   ]
  },
  {
   "cell_type": "markdown",
   "id": "07066edc",
   "metadata": {},
   "source": [
    "## Imports and Seeding\n",
    "First we will do the necessary imports:\n",
    "* `numpy` for general data handling and array manipulation\n",
    "* `tensorflow` to build and train the regression model\n",
    "* `matplotlib.pyplot` for plotting\n",
    "* `sklearn.utils.shuffle` to randomly shuffle our training dataset\n",
    "* `cycler.cycler` helps with plotting multiple distributions"
   ]
  },
  {
   "cell_type": "code",
   "execution_count": 1,
   "id": "33bfb028",
   "metadata": {},
   "outputs": [],
   "source": [
    "import numpy as np\n",
    "from matplotlib import pyplot as plt\n",
    "import tensorflow as tf\n",
    "from sklearn.utils import shuffle\n",
    "from cycler import cycler"
   ]
  },
  {
   "cell_type": "markdown",
   "id": "b17ea7df",
   "metadata": {},
   "source": [
    "Then we set a random seed for the `np.random` module. This makes our code reproducible as the random operations will yield the same results in every run through the notebook."
   ]
  },
  {
   "cell_type": "code",
   "execution_count": 2,
   "id": "d7118dd4",
   "metadata": {},
   "outputs": [],
   "source": [
    "np.random.seed(42)"
   ]
  },
  {
   "cell_type": "markdown",
   "id": "43930b0d",
   "metadata": {},
   "source": [
    "## Data Creation\n",
    "First we will create the data.\n",
    "\n",
    "To make things a little bit more interesting we have written a small piece of code, which creates `N_DIM` dimensional data following distributions consiting of one or more (`N_PEAK`) different Gaussian functions. Increasing the number of `N_PEAK` will in general make the distributions and thus the task more complex."
   ]
  },
  {
   "cell_type": "code",
   "execution_count": 3,
   "id": "cf21127e",
   "metadata": {},
   "outputs": [],
   "source": [
    "N_DIMS = 1\n",
    "N_PEAK = 1\n",
    "SCALE = 0.1\n",
    "\n",
    "centers_class_1 = np.random.uniform(0, 1, size=(N_PEAK, N_DIMS))\n",
    "centers_class_2 = np.random.uniform(0, 1, size=(N_PEAK, N_DIMS))\n",
    "\n",
    "def make_samples(centers, n_samples=1_000):\n",
    "    output = []\n",
    "    for i, center in enumerate(centers):\n",
    "        output.append(np.random.normal(\n",
    "            loc=center,\n",
    "            scale=SCALE,\n",
    "            size=(n_samples // N_PEAK, N_DIMS)\n",
    "        ))\n",
    "    return np.concatenate(output)\n",
    "\n",
    "class_1 = make_samples(centers_class_1, 100_000)\n",
    "class_2 = make_samples(centers_class_2, 100_000)"
   ]
  },
  {
   "cell_type": "markdown",
   "id": "7789856e",
   "metadata": {},
   "source": [
    "## Data Visualization\n",
    "Visualize the data. When looking at one dimension (`N_DIMS=1`) a single histogram will solve the task. If plotting many dimensions (`N_DIMS>1`) you may want to plot 1-dimensional projections onto each of the axes."
   ]
  },
  {
   "cell_type": "code",
   "execution_count": 14,
   "id": "33880fbe",
   "metadata": {},
   "outputs": [
    {
     "data": {
      "text/plain": [
       "'\\nTODO: Visualize the data of the two classes.\\nWou may want to plot all 1-dimensional projections of the `N_DIM` dimensions of our data.\\n'"
      ]
     },
     "execution_count": 14,
     "metadata": {},
     "output_type": "execute_result"
    }
   ],
   "source": [
    "\"\"\"\n",
    "TODO: Visualize the data of the two classes.\n",
    "Wou may want to plot all 1-dimensional projections of the `N_DIM` dimensions of our data.\n",
    "\"\"\""
   ]
  },
  {
   "cell_type": "markdown",
   "id": "42822770",
   "metadata": {},
   "source": [
    "## Data Preparation\n",
    "Next we prepare the training data.\n",
    "We built one dataset made out of both classes.\n",
    "\n",
    "The `x` values of the training data are given by the distributions themselves\n",
    "\n",
    "For the `y` values we use ones for `class_1` and zeros for`class_2`."
   ]
  },
  {
   "cell_type": "code",
   "execution_count": 5,
   "id": "0f9b848e",
   "metadata": {},
   "outputs": [],
   "source": [
    "x = np.concatenate((class_1, class_2))\n",
    "y = np.concatenate((np.ones(len(class_1)), np.zeros(len(class_2))))[..., None]"
   ]
  },
  {
   "cell_type": "markdown",
   "id": "130d9122",
   "metadata": {},
   "source": [
    "Next we suffle our dataset. This prevents the case that during training the network only sees one type of events in a particular or even many subsequent batches."
   ]
  },
  {
   "cell_type": "code",
   "execution_count": 6,
   "id": "060541ec",
   "metadata": {},
   "outputs": [],
   "source": [
    "x, y = shuffle(x, y, random_state=0)"
   ]
  },
  {
   "cell_type": "markdown",
   "id": "b6a322e2",
   "metadata": {},
   "source": [
    "## Model Creation\n",
    "Next we will create the model.\n",
    "- What is a suitable size?\n",
    "- How many inputs and outputs does the model need?\n",
    "- What are suitable activations?\n",
    "    - Hint: Think about the activation of the last layer."
   ]
  },
  {
   "cell_type": "code",
   "execution_count": 15,
   "id": "dd7278fd",
   "metadata": {},
   "outputs": [
    {
     "data": {
      "text/plain": [
       "'\\nTODO: Create the model\\n'"
      ]
     },
     "execution_count": 15,
     "metadata": {},
     "output_type": "execute_result"
    }
   ],
   "source": [
    "\"\"\"\n",
    "TODO: Create the model\n",
    "\"\"\""
   ]
  },
  {
   "cell_type": "markdown",
   "id": "17270e29",
   "metadata": {},
   "source": [
    "Now compile the model:\n",
    "- Which loss function should be used? ([Documentation](https://www.tensorflow.org/api_docs/python/tf/keras/losses))\n",
    "- Which optimizer should be used?"
   ]
  },
  {
   "cell_type": "code",
   "execution_count": 16,
   "id": "77b344b7",
   "metadata": {},
   "outputs": [
    {
     "data": {
      "text/plain": [
       "'\\nTODO: Compile the model\\n'"
      ]
     },
     "execution_count": 16,
     "metadata": {},
     "output_type": "execute_result"
    }
   ],
   "source": [
    "\"\"\"\n",
    "TODO: Compile the model\n",
    "\"\"\""
   ]
  },
  {
   "cell_type": "markdown",
   "id": "baa6a06c",
   "metadata": {},
   "source": [
    "Next we inspect our model. How many parameteres does it have?"
   ]
  },
  {
   "cell_type": "code",
   "execution_count": 17,
   "id": "4c364d71",
   "metadata": {},
   "outputs": [
    {
     "data": {
      "text/plain": [
       "'\\nTODO: Use model.summary() to look at number of parameters\\n'"
      ]
     },
     "execution_count": 17,
     "metadata": {},
     "output_type": "execute_result"
    }
   ],
   "source": [
    "\"\"\"\n",
    "TODO: Use model.summary() to look at number of parameters\n",
    "\"\"\""
   ]
  },
  {
   "cell_type": "markdown",
   "id": "b6da7aab",
   "metadata": {},
   "source": [
    "## Model Training\n",
    "Now train the model:\n",
    "* What is a suitable number of epochs?\n",
    "* What is a suitable size for the batches?"
   ]
  },
  {
   "cell_type": "code",
   "execution_count": 18,
   "id": "10f26b8a",
   "metadata": {},
   "outputs": [
    {
     "data": {
      "text/plain": [
       "'\\nTODO: Train the model\\n'"
      ]
     },
     "execution_count": 18,
     "metadata": {},
     "output_type": "execute_result"
    }
   ],
   "source": [
    "\"\"\"\n",
    "TODO: Train the model\n",
    "\"\"\""
   ]
  },
  {
   "cell_type": "markdown",
   "id": "7501eec2",
   "metadata": {},
   "source": [
    "## Model Evaluation\n",
    "Visualize the model prediction. Describe your observation."
   ]
  },
  {
   "cell_type": "code",
   "execution_count": 19,
   "id": "2bcc84f6",
   "metadata": {},
   "outputs": [
    {
     "data": {
      "text/plain": [
       "'\\nTODO: Prepare data for the model evaluation/prediction\\n'"
      ]
     },
     "execution_count": 19,
     "metadata": {},
     "output_type": "execute_result"
    }
   ],
   "source": [
    "\"\"\"\n",
    "TODO: Prepare data for the model evaluation/prediction\n",
    "\"\"\""
   ]
  },
  {
   "cell_type": "code",
   "execution_count": 20,
   "id": "819684ee",
   "metadata": {},
   "outputs": [
    {
     "data": {
      "text/plain": [
       "'\\nTODO: Perform the model evaluation/prediction\\n'"
      ]
     },
     "execution_count": 20,
     "metadata": {},
     "output_type": "execute_result"
    }
   ],
   "source": [
    "\"\"\"\n",
    "TODO: Perform the model evaluation/prediction\n",
    "\"\"\""
   ]
  },
  {
   "cell_type": "code",
   "execution_count": 21,
   "id": "cb0ccba0",
   "metadata": {},
   "outputs": [
    {
     "data": {
      "text/plain": [
       "'\\nTODO: Visualize the model evaluation/prediciton\\n'"
      ]
     },
     "execution_count": 21,
     "metadata": {},
     "output_type": "execute_result"
    }
   ],
   "source": [
    "\"\"\"\n",
    "TODO: Visualize the model evaluation/prediciton\n",
    "\"\"\""
   ]
  },
  {
   "cell_type": "markdown",
   "id": "42bf1cc0",
   "metadata": {},
   "source": [
    "## Futher Tasks\n",
    "Now we will make our exercise more difficult:\n",
    "* Make the functions more complex (N_PEAK) and train the classifier again. Describe your observations.\n",
    "* Raise the number of dimensions (N_DIM) to 2 (and 10) and train the classifier again. Describe your observations."
   ]
  },
  {
   "cell_type": "markdown",
   "id": "05fcec7d",
   "metadata": {},
   "source": [
    "## Summary\n",
    "This concludes our tutorial on the Classification between Two Classes.\n",
    "\n",
    "In this tutorial you have learned:\n",
    "* How to visualize n-dimensional data distributions from two classes\n",
    "* How to prepare the data for a classification\n",
    "* How to create a neural network for a classification\n",
    "* Which loss to use for a classification\n",
    "* How to interpret the output of a classification network\n",
    "* The strenghts and limits of a simple network and a simple optimizer according to:\n",
    "    * Number of dimensions\n",
    "    * Complexity of functions"
   ]
  },
  {
   "cell_type": "code",
   "execution_count": null,
   "id": "f5d7c7bf",
   "metadata": {},
   "outputs": [],
   "source": []
  }
 ],
 "metadata": {
  "kernelspec": {
   "display_name": "Python 3 (ipykernel)",
   "language": "python",
   "name": "python3"
  },
  "language_info": {
   "codemirror_mode": {
    "name": "ipython",
    "version": 3
   },
   "file_extension": ".py",
   "mimetype": "text/x-python",
   "name": "python",
   "nbconvert_exporter": "python",
   "pygments_lexer": "ipython3",
   "version": "3.8.8"
  }
 },
 "nbformat": 4,
 "nbformat_minor": 5
}
