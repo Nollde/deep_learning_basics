{
 "cells": [
  {
   "cell_type": "markdown",
   "id": "93c2f0ba",
   "metadata": {},
   "source": [
    "# Classification with DNN and Pen&Paper\n",
    "\n",
    "In this task we will explore the analytic solution of DNN classifications.\n",
    "\n",
    "## Introduction\n",
    "We will create data from two Gaussian distributions and train a classification between them.\n",
    "In parallel we will take pen and paper to calculate the solution of the classification.\n",
    "Then we will compare the results of our network training and our pen&paper calculation."
   ]
  },
  {
   "cell_type": "code",
   "execution_count": 43,
   "id": "20329dfd",
   "metadata": {},
   "outputs": [],
   "source": [
    "import numpy as np\n",
    "from matplotlib import pyplot as plt\n",
    "import tensorflow as tf"
   ]
  },
  {
   "cell_type": "markdown",
   "id": "df4f97e5",
   "metadata": {},
   "source": [
    "## Creating and plotting the data\n",
    "First we fix the parametrisation of our Gaussian distributions (A and B) and create the data."
   ]
  },
  {
   "cell_type": "code",
   "execution_count": 44,
   "id": "6c92b864",
   "metadata": {},
   "outputs": [],
   "source": [
    "# parametrisation of the underlying probability distributions\n",
    "loc_a, scale_a = 0, 1.5\n",
    "loc_b, scale_b = 1, 1.2\n",
    "\n",
    "# creating the data\n",
    "a = np.random.normal(loc=loc_a, scale=scale_a, size=(100000,))\n",
    "b = np.random.normal(loc=loc_b, scale=scale_b, size=(100000,))"
   ]
  },
  {
   "cell_type": "markdown",
   "id": "2890ec5b",
   "metadata": {},
   "source": [
    "We bin the data in histograms with equidistant bins, plot the histograms and plot (parts of) the raw data."
   ]
  },
  {
   "cell_type": "code",
   "execution_count": 45,
   "id": "f687f21b",
   "metadata": {},
   "outputs": [
    {
     "data": {
      "text/plain": [
       "<matplotlib.legend.Legend at 0x7f9211e57c70>"
      ]
     },
     "execution_count": 45,
     "metadata": {},
     "output_type": "execute_result"
    },
    {
     "data": {
      "image/png": "[encoded data removed]",
      "text/plain": [
       "<Figure size 432x288 with 2 Axes>"
      ]
     },
     "metadata": {
      "needs_background": "light"
     },
     "output_type": "display_data"
    }
   ],
   "source": [
    "# creating the figure\n",
    "fig, (ax1, ax2) = plt.subplots(nrows=2, ncols=1, sharex='col', gridspec_kw={'height_ratios': [2, 1], \"hspace\": 0})\n",
    "\n",
    "# plot histograms\n",
    "hist_a, bins_a, _ = ax1.hist(a, bins=np.arange(-4, 4.4, 0.4), alpha=0.5, label=\"Distribution A\")\n",
    "hist_b, bins_b, _ = ax1.hist(b, bins=bins_a, alpha=0.5, label=\"Distribution B\")\n",
    "\n",
    "# plot 1000 example points\n",
    "ax2.plot(a[:1000], np.zeros_like(a)[:1000], linestyle=\"None\", marker=\"|\", alpha=0.1)\n",
    "ax2.plot(b[:1000], np.zeros_like(b)[:1000], linestyle=\"None\", marker=\"|\", alpha=0.1)\n",
    "\n",
    "# styling plot\n",
    "ax2.axes.get_yaxis().set_visible(False)\n",
    "ax2.set_xlabel(\"x\")\n",
    "ax1.set_ylabel(\"Counts [#]\")\n",
    "ax2.set_xlim([-4, 4])\n",
    "ax1.legend()"
   ]
  },
  {
   "cell_type": "markdown",
   "id": "77dfd868",
   "metadata": {},
   "source": [
    "## Task\n",
    "Now it is your turn. The two data distributions is everything you will get to solve this task. Train a classification between the two distributions and compare the output of your network with the pen&paper calculation you performed before. Describe your observation."
   ]
  },
  {
   "cell_type": "code",
   "execution_count": null,
   "id": "a7e53779",
   "metadata": {},
   "outputs": [],
   "source": []
  }
 ],
 "metadata": {
  "kernelspec": {
   "display_name": "Python 3 (ipykernel)",
   "language": "python",
   "name": "python3"
  },
  "language_info": {
   "codemirror_mode": {
    "name": "ipython",
    "version": 3
   },
   "file_extension": ".py",
   "mimetype": "text/x-python",
   "name": "python",
   "nbconvert_exporter": "python",
   "pygments_lexer": "ipython3",
   "version": "3.8.8"
  }
 },
 "nbformat": 4,
 "nbformat_minor": 5
}
