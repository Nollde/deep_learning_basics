{
 "cells": [
  {
   "cell_type": "markdown",
   "id": "484cae12",
   "metadata": {},
   "source": [
    "# Regression of a very complex function\n",
    "In this task you will learn how to perform a regression of a very complex function."
   ]
  },
  {
   "cell_type": "markdown",
   "id": "26b13114",
   "metadata": {},
   "source": [
    "## Imports and Seeding\n",
    "First we will do the necessary imports:\n",
    "* `numpy` for general data handling and array manipulation\n",
    "* `tensorflow` to build and train the regression model\n",
    "* `matplotlib.pyplot` for plotting"
   ]
  },
  {
   "cell_type": "code",
   "execution_count": 1,
   "id": "1833559e",
   "metadata": {},
   "outputs": [],
   "source": [
    "import numpy as np\n",
    "import tensorflow as tf\n",
    "from matplotlib import pyplot as plt"
   ]
  },
  {
   "cell_type": "markdown",
   "id": "48e0eee1",
   "metadata": {},
   "source": [
    "Then we set a random seed for the `np.random` module. This makes our code reproducible as the random operations will yield the same results in every run through the notebook."
   ]
  },
  {
   "cell_type": "code",
   "execution_count": 2,
   "id": "b3ab0336",
   "metadata": {},
   "outputs": [],
   "source": [
    "np.random.seed(42)"
   ]
  },
  {
   "cell_type": "markdown",
   "id": "9d66dc3c",
   "metadata": {},
   "source": [
    "## Data Creation\n",
    "First we define the parameters of the data.\n",
    "* `n_data`: number of data points\n",
    "* `uncertainty`: the uncertainty that is used"
   ]
  },
  {
   "cell_type": "code",
   "execution_count": 3,
   "id": "cb0f589d",
   "metadata": {},
   "outputs": [],
   "source": [
    "N = 10 ** 4\n",
    "uncertainty = 0.0"
   ]
  },
  {
   "cell_type": "markdown",
   "id": "b89b8f85",
   "metadata": {},
   "source": [
    "We define `some_complicated_function` that we want to regress and model with our neural network."
   ]
  },
  {
   "cell_type": "code",
   "execution_count": 4,
   "id": "f7de78f4",
   "metadata": {},
   "outputs": [],
   "source": [
    "def some_complicated_function(x):\n",
    "    return (\n",
    "        (np.abs(x)) ** 0.5\n",
    "        + 0.1 * x\n",
    "        + 0.01 * x ** 2\n",
    "        + 1\n",
    "        - np.sin(x)\n",
    "        + 0.5 * np.exp(x / 10.0)\n",
    "    ) / (0.5 + np.abs(np.cos(x)))"
   ]
  },
  {
   "cell_type": "markdown",
   "id": "b6370006",
   "metadata": {},
   "source": [
    "And now we create the training data according to `some_complicated_function`."
   ]
  },
  {
   "cell_type": "code",
   "execution_count": 5,
   "id": "7a21cca8",
   "metadata": {},
   "outputs": [],
   "source": [
    "x_lin = np.linspace(-10, 10, 1000)[:, None]\n",
    "y_lin = some_complicated_function(x_lin)\n",
    "\n",
    "x = np.random.uniform(-10, 10, size=(N,1))\n",
    "y = some_complicated_function(x)\n",
    "y += np.random.normal(0, uncertainty, size=y.shape[0])[..., None]"
   ]
  },
  {
   "cell_type": "markdown",
   "id": "5745f7cf",
   "metadata": {},
   "source": [
    "## Data Visualization\n",
    "Visualize the used function (`some_complicated_function`) andd the created data `(x, y)` in an appropriate way."
   ]
  },
  {
   "cell_type": "code",
   "execution_count": 12,
   "id": "c2066a2e",
   "metadata": {},
   "outputs": [
    {
     "data": {
      "text/plain": [
       "'\\nTODO: Visualize, x, y, x_lin, y_lin\\n'"
      ]
     },
     "execution_count": 12,
     "metadata": {},
     "output_type": "execute_result"
    }
   ],
   "source": [
    "\"\"\"\n",
    "TODO: Visualize, x, y, x_lin, y_lin\n",
    "\"\"\""
   ]
  },
  {
   "cell_type": "markdown",
   "id": "576b2822",
   "metadata": {},
   "source": [
    "## Model Setup\n",
    "Now create the model:\n",
    "- What is a suitable size?\n",
    "- How many inputs and outputs are needed?\n",
    "- What are suitable activations? "
   ]
  },
  {
   "cell_type": "code",
   "execution_count": 13,
   "id": "5b91c84a",
   "metadata": {},
   "outputs": [
    {
     "data": {
      "text/plain": [
       "'\\nTODO: Create the model\\n'"
      ]
     },
     "execution_count": 13,
     "metadata": {},
     "output_type": "execute_result"
    }
   ],
   "source": [
    "\"\"\"\n",
    "TODO: Create the model\n",
    "\"\"\""
   ]
  },
  {
   "cell_type": "markdown",
   "id": "29a3ba47",
   "metadata": {},
   "source": [
    "Now compile the model:\n",
    "- Which loss function should be used? ([Documentation](https://www.tensorflow.org/api_docs/python/tf/keras/losses))\n",
    "- Which optimizer should be used?"
   ]
  },
  {
   "cell_type": "code",
   "execution_count": 14,
   "id": "3419b16a",
   "metadata": {},
   "outputs": [
    {
     "data": {
      "text/plain": [
       "'\\nTODO: Compile the model\\n'"
      ]
     },
     "execution_count": 14,
     "metadata": {},
     "output_type": "execute_result"
    }
   ],
   "source": [
    "\"\"\"\n",
    "TODO: Compile the model\n",
    "\"\"\""
   ]
  },
  {
   "cell_type": "markdown",
   "id": "1916abda",
   "metadata": {},
   "source": [
    "## Model Training\n",
    "Now train the model:\n",
    "* What is a suitable number of epochs?\n",
    "* What is a suitable size for the batches?"
   ]
  },
  {
   "cell_type": "code",
   "execution_count": 15,
   "id": "e862ab76",
   "metadata": {},
   "outputs": [
    {
     "data": {
      "text/plain": [
       "'\\nTODO: Train the model\\n'"
      ]
     },
     "execution_count": 15,
     "metadata": {},
     "output_type": "execute_result"
    }
   ],
   "source": [
    "\"\"\"\n",
    "TODO: Train the model\n",
    "\"\"\""
   ]
  },
  {
   "cell_type": "markdown",
   "id": "3a0d56fa",
   "metadata": {},
   "source": [
    "## Model Evaluation\n",
    "Visualize the model prediction alogn with the original function and the training data. What do you observe?"
   ]
  },
  {
   "cell_type": "code",
   "execution_count": 16,
   "id": "ad7a746c",
   "metadata": {},
   "outputs": [
    {
     "data": {
      "text/plain": [
       "'\\nTODO: what does the model predict for each x value?\\n'"
      ]
     },
     "execution_count": 16,
     "metadata": {},
     "output_type": "execute_result"
    }
   ],
   "source": [
    "\"\"\"\n",
    "TODO: what does the model predict for each x value?\n",
    "\"\"\""
   ]
  },
  {
   "cell_type": "code",
   "execution_count": 17,
   "id": "d8bbf7cc",
   "metadata": {},
   "outputs": [
    {
     "data": {
      "text/plain": [
       "'\\nTODO: Plot model prediction along with the original function and the training data\\n'"
      ]
     },
     "execution_count": 17,
     "metadata": {},
     "output_type": "execute_result"
    }
   ],
   "source": [
    "\"\"\"\n",
    "TODO: Plot model prediction along with the original function and the training data\n",
    "\"\"\""
   ]
  },
  {
   "cell_type": "markdown",
   "id": "85071641",
   "metadata": {},
   "source": [
    "## Model Improvements\n",
    "Try to improve your model and its training. You may try the following configurations.\n",
    "- Different activation functions (ReLU, Sigmoid, Thanh)\n",
    "- Different learning rates (0.0001, 0.001, 0.01 ,0.1, 1, 10)\n",
    "\n",
    "Describe your observations."
   ]
  },
  {
   "cell_type": "markdown",
   "id": "c4c1382a",
   "metadata": {},
   "source": [
    "## Further Tasks\n",
    "Go back to the beginning of the notebook and increase the uncertainty of the data.\n",
    "Describe your observations."
   ]
  },
  {
   "cell_type": "markdown",
   "id": "c069e5c2",
   "metadata": {},
   "source": [
    "## Summary\n",
    "This concludes our tutorial on the regression of a very complicated function.\n",
    "\n",
    "In this tutorial you have learned:\n",
    "* How to perform a regression with a neural network\n",
    "* The limits of very simple neural networks\n",
    "* The limits of very simple optimizers\n",
    "* How to improve:\n",
    "    * the network \n",
    "    * the optimization of the network\n",
    "* The influence of uncertain data on the model training"
   ]
  },
  {
   "cell_type": "code",
   "execution_count": null,
   "id": "14ca73a2",
   "metadata": {},
   "outputs": [],
   "source": []
  }
 ],
 "metadata": {
  "kernelspec": {
   "display_name": "Python 3 (ipykernel)",
   "language": "python",
   "name": "python3"
  },
  "language_info": {
   "codemirror_mode": {
    "name": "ipython",
    "version": 3
   },
   "file_extension": ".py",
   "mimetype": "text/x-python",
   "name": "python",
   "nbconvert_exporter": "python",
   "pygments_lexer": "ipython3",
   "version": "3.8.8"
  }
 },
 "nbformat": 4,
 "nbformat_minor": 5
}
