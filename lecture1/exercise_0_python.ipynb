{
 "cells": [
  {
   "cell_type": "markdown",
   "id": "897fcfcd",
   "metadata": {},
   "source": [
    "# Python Tutorial\n",
    "-----------------------\n",
    "\n",
    "Welcome to this warm-up tutorial! Let's take a look at some highlights of Python!\n",
    "\n",
    "Please execute the whole notebook now by clicking on Cell->Execute All in the menubar. In the following, cells starting with TODOs and ending with a ```?``` are tasks to be solved individually.\n",
    "\n",
    "Let's start with the usual **hello world** program:"
   ]
  },
  {
   "cell_type": "code",
   "execution_count": 17,
   "id": "c8562e26",
   "metadata": {
    "scrolled": false
   },
   "outputs": [
    {
     "name": "stdout",
     "output_type": "stream",
     "text": [
      "Hello World!\n"
     ]
    }
   ],
   "source": [
    "print(\"Hello World!\")"
   ]
  },
  {
   "cell_type": "markdown",
   "id": "48a13786",
   "metadata": {},
   "source": [
    "You can print multiple items in a row:"
   ]
  },
  {
   "cell_type": "code",
   "execution_count": 18,
   "id": "bea4da9f",
   "metadata": {},
   "outputs": [
    {
     "name": "stdout",
     "output_type": "stream",
     "text": [
      "1 + 12 = 13\n"
     ]
    }
   ],
   "source": [
    "print(\"1 + 12 =\", 13)"
   ]
  },
  {
   "cell_type": "markdown",
   "id": "5a70d15c",
   "metadata": {},
   "source": [
    "## Comments\n",
    "You can also comment your code with ```#``` for a **single line** or with ```\"\"\"comment\"\"\"``` for **multiple lines**:"
   ]
  },
  {
   "cell_type": "code",
   "execution_count": 19,
   "id": "6b5d414b",
   "metadata": {},
   "outputs": [],
   "source": [
    "# This is a comment and will be ignored upon execution"
   ]
  },
  {
   "cell_type": "code",
   "execution_count": 20,
   "id": "d69d90e9",
   "metadata": {},
   "outputs": [
    {
     "name": "stdout",
     "output_type": "stream",
     "text": [
      "What's that thing that spells the same backwards as forwards?\n",
      "A palindrome...?\n"
     ]
    }
   ],
   "source": [
    "print(\"What's that thing that spells the same backwards as forwards?\")\n",
    "\"\"\"\n",
    "I am a comment too!\n",
    "See, this line is ignored as well!\n",
    "\"\"\"\n",
    "print(\"A palindrome...?\")"
   ]
  },
  {
   "cell_type": "markdown",
   "id": "c4c8535a",
   "metadata": {},
   "source": [
    "## Variables and Data-Types\n",
    "Python is a **dynamically-typed** language, i.e. you don't have to define your variable types:"
   ]
  },
  {
   "cell_type": "code",
   "execution_count": 21,
   "id": "f7179786",
   "metadata": {},
   "outputs": [],
   "source": [
    "a = 13  # This is an integer\n",
    "b = \"This is a string\"  # This is a string\n",
    "c = True   # A boolean \n",
    "d = 14.5  # This is a double-precision floating-point variable (called a 'double' in C-speak)\n",
    "e = [1, 3, 15, 34]  # This is a list, an array of objects\n",
    "f = (\"Emmental\", \"Brie\", \"Gouda\", \"Danish Blue\")  # This is a tuple, an immutable array"
   ]
  },
  {
   "cell_type": "code",
   "execution_count": 27,
   "id": "d0586d1b",
   "metadata": {},
   "outputs": [
    {
     "ename": "SyntaxError",
     "evalue": "invalid syntax (998780084.py, line 3)",
     "output_type": "error",
     "traceback": [
      "\u001b[0;36m  File \u001b[0;32m\"/tmp/ipykernel_51154/998780084.py\"\u001b[0;36m, line \u001b[0;32m3\u001b[0m\n\u001b[0;31m    print(\"The second element in a is:\", None,\"(should be 3)\")?\u001b[0m\n\u001b[0m                                                              ^\u001b[0m\n\u001b[0;31mSyntaxError\u001b[0m\u001b[0;31m:\u001b[0m invalid syntax\n"
     ]
    }
   ],
   "source": [
    "# You can use squared brackets to access elements in an array or tuple\n",
    "# TODO: What's the second element in array e?\n",
    "print(\"The second element in a is:\", None,\"(should be 3)\")?"
   ]
  },
  {
   "cell_type": "markdown",
   "id": "0019db03",
   "metadata": {},
   "source": [
    "## Elementary Arithmetics\n",
    "You can use the usual **operators** +, -, *, / for elementary arithmetics:"
   ]
  },
  {
   "cell_type": "code",
   "execution_count": 28,
   "id": "86b8e68c",
   "metadata": {},
   "outputs": [
    {
     "ename": "SyntaxError",
     "evalue": "invalid syntax (2320046825.py, line 2)",
     "output_type": "error",
     "traceback": [
      "\u001b[0;36m  File \u001b[0;32m\"/tmp/ipykernel_51154/2320046825.py\"\u001b[0;36m, line \u001b[0;32m2\u001b[0m\n\u001b[0;31m    print(\"13 x 14.5 =\", \"?\")?\u001b[0m\n\u001b[0m                             ^\u001b[0m\n\u001b[0;31mSyntaxError\u001b[0m\u001b[0;31m:\u001b[0m invalid syntax\n"
     ]
    }
   ],
   "source": [
    "# TODO: Use the variables a and d defined above to calculate 13 x 14.5!\n",
    "print(\"13 x 14.5 =\", \"?\")?"
   ]
  },
  {
   "cell_type": "code",
   "execution_count": 29,
   "id": "29eac6ed",
   "metadata": {},
   "outputs": [
    {
     "ename": "SyntaxError",
     "evalue": "invalid syntax (2665876267.py, line 2)",
     "output_type": "error",
     "traceback": [
      "\u001b[0;36m  File \u001b[0;32m\"/tmp/ipykernel_51154/2665876267.py\"\u001b[0;36m, line \u001b[0;32m2\u001b[0m\n\u001b[0;31m    print(\"13 + True =\", \"?\")?\u001b[0m\n\u001b[0m                             ^\u001b[0m\n\u001b[0;31mSyntaxError\u001b[0m\u001b[0;31m:\u001b[0m invalid syntax\n"
     ]
    }
   ],
   "source": [
    "# TODO: Booleans work as numbers as well. What happens if you add a and c?\n",
    "print(\"13 + True =\", \"?\")?"
   ]
  },
  {
   "cell_type": "markdown",
   "id": "f6d98d65",
   "metadata": {},
   "source": [
    "## Comparison Opeartors\n",
    "You can use <, >, ==, <=, >= to **compare numbers** (**and objects**), the **keywords** ```and```, ```or``` to compare statements (booleans) and the keyword ```not``` to negate them.\n"
   ]
  },
  {
   "cell_type": "code",
   "execution_count": 30,
   "id": "b0a7cbe1",
   "metadata": {},
   "outputs": [
    {
     "ename": "SyntaxError",
     "evalue": "invalid syntax (816995051.py, line 2)",
     "output_type": "error",
     "traceback": [
      "\u001b[0;36m  File \u001b[0;32m\"/tmp/ipykernel_51154/816995051.py\"\u001b[0;36m, line \u001b[0;32m2\u001b[0m\n\u001b[0;31m    print((a==14) and not (c<d))?\u001b[0m\n\u001b[0m                                ^\u001b[0m\n\u001b[0;31mSyntaxError\u001b[0m\u001b[0;31m:\u001b[0m invalid syntax\n"
     ]
    }
   ],
   "source": [
    "# TODO: What's the output of (\"a bigger than d\" AND \"c is True\")?\n",
    "print((a==14) and not (c<d))?"
   ]
  },
  {
   "cell_type": "markdown",
   "id": "cbba9080",
   "metadata": {},
   "source": [
    "## Control Flow Tools\n",
    "For pre-test loops you can use ```while```. Beware that in Python indented blocks of code belongs to the same parent line (similarly to ```{...}``` in C); mixing indentations yields an ```IndentationError```."
   ]
  },
  {
   "cell_type": "code",
   "execution_count": 34,
   "id": "bc0a1aa7",
   "metadata": {},
   "outputs": [
    {
     "ename": "IndentationError",
     "evalue": "unexpected indent (3109148489.py, line 5)",
     "output_type": "error",
     "traceback": [
      "\u001b[0;36m  File \u001b[0;32m\"/tmp/ipykernel_51154/3109148489.py\"\u001b[0;36m, line \u001b[0;32m5\u001b[0m\n\u001b[0;31m    i = i + 1\u001b[0m\n\u001b[0m    ^\u001b[0m\n\u001b[0;31mIndentationError\u001b[0m\u001b[0;31m:\u001b[0m unexpected indent\n"
     ]
    }
   ],
   "source": [
    "# TODO: fix the while loop below:\n",
    "i = 0\n",
    "while i<4:\n",
    "  print(i)\n",
    "    i = i + 1"
   ]
  },
  {
   "cell_type": "markdown",
   "id": "f5d33ba2",
   "metadata": {},
   "source": [
    "Using ```for``` and the iterable ```range(n)``` a for-like loop can be created:"
   ]
  },
  {
   "cell_type": "code",
   "execution_count": 45,
   "id": "d26a4b8a",
   "metadata": {},
   "outputs": [
    {
     "ename": "SyntaxError",
     "evalue": "invalid syntax (756008327.py, line 5)",
     "output_type": "error",
     "traceback": [
      "\u001b[0;36m  File \u001b[0;32m\"/tmp/ipykernel_51154/756008327.py\"\u001b[0;36m, line \u001b[0;32m5\u001b[0m\n\u001b[0;31m    print(sum)?\u001b[0m\n\u001b[0m              ^\u001b[0m\n\u001b[0;31mSyntaxError\u001b[0m\u001b[0;31m:\u001b[0m invalid syntax\n"
     ]
    }
   ],
   "source": [
    "# TODO: Write a for loop adding up all the numbers from 0 to 100 and print the result.\n",
    "sum = 0\n",
    "for i in range(5):\n",
    "    print(\"\")\n",
    "print(sum)?"
   ]
  },
  {
   "cell_type": "markdown",
   "id": "b3730030",
   "metadata": {},
   "source": [
    "For **conditional branching**, the usual keywords ```if``` and ```else``` are defined. Loops can be stopped with ```break``` and skipped with ```continue```."
   ]
  },
  {
   "cell_type": "code",
   "execution_count": 66,
   "id": "9a89a44c",
   "metadata": {},
   "outputs": [
    {
     "ename": "SyntaxError",
     "evalue": "invalid syntax (2853117672.py, line 9)",
     "output_type": "error",
     "traceback": [
      "\u001b[0;36m  File \u001b[0;32m\"/tmp/ipykernel_51154/2853117672.py\"\u001b[0;36m, line \u001b[0;32m9\u001b[0m\n\u001b[0;31m    print(\"else block\")?\u001b[0m\n\u001b[0m                       ^\u001b[0m\n\u001b[0;31mSyntaxError\u001b[0m\u001b[0;31m:\u001b[0m invalid syntax\n"
     ]
    }
   ],
   "source": [
    "# TODO: With i%2, you can get the modulus of i divided by two.\n",
    "# TODO: Write a small program checking whether i is an even or odd number for every i in [0, 10).\n",
    "# TODO: Use 'continue' to skip 0!\n",
    "n = 1\n",
    "for i in range(n):\n",
    "    if True:\n",
    "        print(i, \"is an odd/even number\")\n",
    "    else:\n",
    "        print(\"else block\")?"
   ]
  },
  {
   "cell_type": "markdown",
   "id": "2b795be3",
   "metadata": {},
   "source": [
    "## Functions\n",
    "For repeating code, functions can be defined with the ```def``` keyword and their outputs can be returned using ```return```. These funtions can be also called recursively."
   ]
  },
  {
   "cell_type": "code",
   "execution_count": 69,
   "id": "1768ca2b",
   "metadata": {},
   "outputs": [
    {
     "name": "stdout",
     "output_type": "stream",
     "text": [
      "Hello John Cleese!\n"
     ]
    }
   ],
   "source": [
    "def get_greeting(name):\n",
    "    return \"Hello \" + name +\"!\"\n",
    "print(get_greeting(\"John Cleese\"))"
   ]
  },
  {
   "cell_type": "code",
   "execution_count": 82,
   "id": "e123d01c",
   "metadata": {},
   "outputs": [
    {
     "ename": "SyntaxError",
     "evalue": "invalid syntax (1882212969.py, line 5)",
     "output_type": "error",
     "traceback": [
      "\u001b[0;36m  File \u001b[0;32m\"/tmp/ipykernel_51154/1882212969.py\"\u001b[0;36m, line \u001b[0;32m5\u001b[0m\n\u001b[0;31m    factorial(10)?\u001b[0m\n\u001b[0m                 ^\u001b[0m\n\u001b[0;31mSyntaxError\u001b[0m\u001b[0;31m:\u001b[0m invalid syntax\n"
     ]
    }
   ],
   "source": [
    "# TODO: Implement the factorial operation\n",
    "def factorial(n):\n",
    "    print(n)\n",
    "    return 0\n",
    "factorial(10)?"
   ]
  },
  {
   "cell_type": "markdown",
   "id": "179e54d9",
   "metadata": {},
   "source": [
    "## Classes\n",
    "Classes are high-level objects for storing and managing primitives. They are initialized with ```class class_name:``` after which the constructor ```__init__(self, args)``` is automatically called. Data in classes are stored using the ```self``` keyword, which are publicly accessible by default."
   ]
  },
  {
   "cell_type": "code",
   "execution_count": 79,
   "id": "d399a53d",
   "metadata": {},
   "outputs": [
    {
     "name": "stdout",
     "output_type": "stream",
     "text": [
      "name: Alice ; age: 34\n",
      "name: Alice ; age: 18\n"
     ]
    }
   ],
   "source": [
    "class Person:\n",
    "    def __init__(self, name, age):\n",
    "        self.name = name\n",
    "        self.age = age\n",
    "        \n",
    "    def print_info(self):\n",
    "        print(\"name:\", self.name, \";\", \"age:\", self.age)\n",
    "alice = Person(\"Alice\", 34)\n",
    "alice.print_info()\n",
    "alice.age = 18\n",
    "alice.print_info()"
   ]
  },
  {
   "cell_type": "markdown",
   "id": "cd09aaa1",
   "metadata": {},
   "source": [
    "## Class Inheritance\n",
    "A class can inherit the properties of the parent class. These properties can be freely overriden:"
   ]
  },
  {
   "cell_type": "code",
   "execution_count": 81,
   "id": "60a46ff6",
   "metadata": {},
   "outputs": [
    {
     "name": "stdout",
     "output_type": "stream",
     "text": [
      "Bob is a student!\n"
     ]
    }
   ],
   "source": [
    "class Student(Person):\n",
    "    def print_info(self):\n",
    "        \"\"\"\n",
    "        Beware that name is inherited from 'Person'\n",
    "        \"\"\"\n",
    "        print(self.name, \"is a student!\")\n",
    "bob = Student(\"Bob\", 20)\n",
    "bob.print_info()"
   ]
  }
 ],
 "metadata": {
  "kernelspec": {
   "display_name": "Python 3 (ipykernel)",
   "language": "python",
   "name": "python3"
  },
  "language_info": {
   "codemirror_mode": {
    "name": "ipython",
    "version": 3
   },
   "file_extension": ".py",
   "mimetype": "text/x-python",
   "name": "python",
   "nbconvert_exporter": "python",
   "pygments_lexer": "ipython3",
   "version": "3.7.7"
  }
 },
 "nbformat": 4,
 "nbformat_minor": 5
}
