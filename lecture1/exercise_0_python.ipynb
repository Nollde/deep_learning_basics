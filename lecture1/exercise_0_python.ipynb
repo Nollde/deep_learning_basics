{
 "cells": [
  {
   "cell_type": "markdown",
   "id": "897fcfcd",
   "metadata": {},
   "source": [
    "# Python Tutorial\n",
    "-----------------------\n",
    "\n",
    "Welcome to this warm-up tutorial! Let's take a look at some highlights of Python!\n",
    "\n",
    "Please execute the whole notebook now by clicking on Cell->Execute All in the menubar. In the following, cells starting with TODOs and ending with a ```?``` are tasks to be solved individually.\n",
    "\n",
    "Let's start with the usual **hello world** program:"
   ]
  },
  {
   "cell_type": "code",
   "execution_count": 1,
   "id": "c8562e26",
   "metadata": {
    "scrolled": false
   },
   "outputs": [
    {
     "name": "stdout",
     "output_type": "stream",
     "text": [
      "Hello World!\n"
     ]
    }
   ],
   "source": [
    "print(\"Hello World!\")"
   ]
  },
  {
   "cell_type": "markdown",
   "id": "48a13786",
   "metadata": {},
   "source": [
    "You can print multiple items in a row:"
   ]
  },
  {
   "cell_type": "code",
   "execution_count": 2,
   "id": "bea4da9f",
   "metadata": {},
   "outputs": [
    {
     "name": "stdout",
     "output_type": "stream",
     "text": [
      "1 + 12 = 13\n"
     ]
    }
   ],
   "source": [
    "print(\"1 + 12 =\", 13)"
   ]
  },
  {
   "cell_type": "markdown",
   "id": "5a70d15c",
   "metadata": {},
   "source": [
    "## Comments\n",
    "You can also comment your code with ```#``` for a **single line** or with ```\"\"\"comment\"\"\"``` for **multiple lines**:"
   ]
  },
  {
   "cell_type": "code",
   "execution_count": 3,
   "id": "6b5d414b",
   "metadata": {},
   "outputs": [],
   "source": [
    "# This is a comment and will be ignored upon execution"
   ]
  },
  {
   "cell_type": "code",
   "execution_count": 4,
   "id": "d69d90e9",
   "metadata": {},
   "outputs": [
    {
     "name": "stdout",
     "output_type": "stream",
     "text": [
      "What's that thing that spells the same backwards as forwards?\n",
      "A palindrome...?\n"
     ]
    }
   ],
   "source": [
    "print(\"What's that thing that spells the same backwards as forwards?\")\n",
    "\"\"\"\n",
    "I am a comment too!\n",
    "See, this line is ignored as well!\n",
    "\"\"\"\n",
    "print(\"A palindrome...?\")"
   ]
  },
  {
   "cell_type": "markdown",
   "id": "c4c8535a",
   "metadata": {},
   "source": [
    "## Variables and Data-Types\n",
    "Python is a **dynamically-typed** language, i.e. you don't have to define your variable types in advance:"
   ]
  },
  {
   "cell_type": "code",
   "execution_count": 5,
   "id": "f7179786",
   "metadata": {},
   "outputs": [],
   "source": [
    "a = 13  # This is an integer\n",
    "b = \"This is a string\"  # This is a string\n",
    "c = True   # A boolean \n",
    "d = 14.5  # This is a double-precision floating-point variable (called a 'double' in C-speak)\n",
    "e = [1, 3, 15, 34]  # This is a list, an array of objects\n",
    "f = (\"Emmental\", \"Brie\", \"Gouda\", \"Danish Blue\")  # This is a tuple, an immutable array"
   ]
  },
  {
   "cell_type": "code",
   "execution_count": 6,
   "id": "d0586d1b",
   "metadata": {},
   "outputs": [
    {
     "ename": "SyntaxError",
     "evalue": "invalid syntax (998780084.py, line 3)",
     "output_type": "error",
     "traceback": [
      "\u001b[0;36m  Input \u001b[0;32mIn [6]\u001b[0;36m\u001b[0m\n\u001b[0;31m    print(\"The second element in a is:\", None,\"(should be 3)\")?\u001b[0m\n\u001b[0m                                                              ^\u001b[0m\n\u001b[0;31mSyntaxError\u001b[0m\u001b[0;31m:\u001b[0m invalid syntax\n"
     ]
    }
   ],
   "source": [
    "# You can use squared brackets to access elements in an array or tuple\n",
    "# TODO: What's the second element in array e?\n",
    "print(\"The second element in a is:\", None,\"(should be 3)\")?"
   ]
  },
  {
   "cell_type": "markdown",
   "id": "0019db03",
   "metadata": {},
   "source": [
    "## Elementary Arithmetics\n",
    "You can use the usual **operators** +, -, *, / for elementary arithmetics:"
   ]
  },
  {
   "cell_type": "code",
   "execution_count": 12,
   "id": "86b8e68c",
   "metadata": {},
   "outputs": [
    {
     "ename": "SyntaxError",
     "evalue": "invalid syntax (2320046825.py, line 2)",
     "output_type": "error",
     "traceback": [
      "\u001b[0;36m  Input \u001b[0;32mIn [12]\u001b[0;36m\u001b[0m\n\u001b[0;31m    print(\"13 x 14.5 =\", \"?\")?\u001b[0m\n\u001b[0m                             ^\u001b[0m\n\u001b[0;31mSyntaxError\u001b[0m\u001b[0;31m:\u001b[0m invalid syntax\n"
     ]
    }
   ],
   "source": [
    "# TODO: Use the variables a and d defined above to calculate 13 x 14.5!\n",
    "print(\"13 x 14.5 =\", \"?\")?"
   ]
  },
  {
   "cell_type": "markdown",
   "id": "32b1985e",
   "metadata": {},
   "source": [
    "You can use the **double star** \\*\\*-operator to raise number to the **n-th power**:"
   ]
  },
  {
   "cell_type": "code",
   "execution_count": 13,
   "id": "8c45add3",
   "metadata": {},
   "outputs": [
    {
     "name": "stdout",
     "output_type": "stream",
     "text": [
      "1 4 9 16 1024\n"
     ]
    }
   ],
   "source": [
    "print(1**2, 2**2, 3**2, 4**2, 32**2)"
   ]
  },
  {
   "cell_type": "code",
   "execution_count": 14,
   "id": "29eac6ed",
   "metadata": {},
   "outputs": [
    {
     "ename": "SyntaxError",
     "evalue": "invalid syntax (2665876267.py, line 2)",
     "output_type": "error",
     "traceback": [
      "\u001b[0;36m  Input \u001b[0;32mIn [14]\u001b[0;36m\u001b[0m\n\u001b[0;31m    print(\"13 + True =\", \"?\")?\u001b[0m\n\u001b[0m                             ^\u001b[0m\n\u001b[0;31mSyntaxError\u001b[0m\u001b[0;31m:\u001b[0m invalid syntax\n"
     ]
    }
   ],
   "source": [
    "# TODO: Booleans work as numbers as well. What happens if you add a and c?\n",
    "print(\"13 + True =\", \"?\")?"
   ]
  },
  {
   "cell_type": "markdown",
   "id": "f6d98d65",
   "metadata": {},
   "source": [
    "## Comparison Opeartors\n",
    "You can use <, >, ==, <=, >= to **compare numbers** (**and objects**), the **keywords** ```and```, ```or``` to compare statements (booleans) and the keyword ```not``` to negate them.\n"
   ]
  },
  {
   "cell_type": "code",
   "execution_count": 15,
   "id": "b0a7cbe1",
   "metadata": {},
   "outputs": [
    {
     "ename": "SyntaxError",
     "evalue": "invalid syntax (816995051.py, line 2)",
     "output_type": "error",
     "traceback": [
      "\u001b[0;36m  Input \u001b[0;32mIn [15]\u001b[0;36m\u001b[0m\n\u001b[0;31m    print((a==14) and not (c<d))?\u001b[0m\n\u001b[0m                                ^\u001b[0m\n\u001b[0;31mSyntaxError\u001b[0m\u001b[0;31m:\u001b[0m invalid syntax\n"
     ]
    }
   ],
   "source": [
    "# TODO: What's the output of (\"a bigger than d\" AND \"c is True\")?\n",
    "print((a==14) and not (c<d))?"
   ]
  },
  {
   "cell_type": "markdown",
   "id": "cbba9080",
   "metadata": {},
   "source": [
    "## Control Flow Tools\n",
    "For pre-test loops you can use ```while```. Beware that in Python indented blocks of code belong to the same parent line (similarly to ```{...}``` in C); mixing indentations raises an ```IndentationError```."
   ]
  },
  {
   "cell_type": "code",
   "execution_count": 16,
   "id": "5f42b63f",
   "metadata": {},
   "outputs": [
    {
     "ename": "IndentationError",
     "evalue": "unexpected indent (3109148489.py, line 5)",
     "output_type": "error",
     "traceback": [
      "\u001b[0;36m  Input \u001b[0;32mIn [16]\u001b[0;36m\u001b[0m\n\u001b[0;31m    i = i + 1\u001b[0m\n\u001b[0m    ^\u001b[0m\n\u001b[0;31mIndentationError\u001b[0m\u001b[0;31m:\u001b[0m unexpected indent\n"
     ]
    }
   ],
   "source": [
    "# TODO: fix the while loop below:\n",
    "i = 0\n",
    "while i<4:\n",
    "  print(i)\n",
    "    i = i + 1"
   ]
  },
  {
   "cell_type": "markdown",
   "id": "118d8935",
   "metadata": {},
   "source": [
    "Using ```for``` and the iterable ```range(n)``` a for-like loop can be created:"
   ]
  },
  {
   "cell_type": "code",
   "execution_count": 17,
   "id": "7740d793",
   "metadata": {},
   "outputs": [
    {
     "ename": "SyntaxError",
     "evalue": "invalid syntax (756008327.py, line 5)",
     "output_type": "error",
     "traceback": [
      "\u001b[0;36m  Input \u001b[0;32mIn [17]\u001b[0;36m\u001b[0m\n\u001b[0;31m    print(sum)?\u001b[0m\n\u001b[0m              ^\u001b[0m\n\u001b[0;31mSyntaxError\u001b[0m\u001b[0;31m:\u001b[0m invalid syntax\n"
     ]
    }
   ],
   "source": [
    "# TODO: Write a for loop adding up all the numbers from 0 to 100 and print the result.\n",
    "sum = 0\n",
    "for i in range(5):\n",
    "    print(\"\")\n",
    "print(sum)?"
   ]
  },
  {
   "cell_type": "markdown",
   "id": "fd2059e5",
   "metadata": {},
   "source": [
    "For **conditional branching**, the usual keywords ```if``` and ```else``` are defined. Loops can be stopped with ```break``` and skipped with ```continue```."
   ]
  },
  {
   "cell_type": "code",
   "execution_count": 18,
   "id": "0c47c5d6",
   "metadata": {},
   "outputs": [
    {
     "ename": "SyntaxError",
     "evalue": "invalid syntax (2853117672.py, line 9)",
     "output_type": "error",
     "traceback": [
      "\u001b[0;36m  Input \u001b[0;32mIn [18]\u001b[0;36m\u001b[0m\n\u001b[0;31m    print(\"else block\")?\u001b[0m\n\u001b[0m                       ^\u001b[0m\n\u001b[0;31mSyntaxError\u001b[0m\u001b[0;31m:\u001b[0m invalid syntax\n"
     ]
    }
   ],
   "source": [
    "# TODO: With i%2, you can get the modulus of i divided by two.\n",
    "# TODO: Write a small program checking whether i is an even or odd number for every i in [0, 10).\n",
    "# TODO: Use 'continue' to skip 0!\n",
    "n = 1\n",
    "for i in range(n):\n",
    "    if True:\n",
    "        print(i, \"is an odd/even number\")\n",
    "    else:\n",
    "        print(\"else block\")?"
   ]
  },
  {
   "cell_type": "markdown",
   "id": "f51fc582",
   "metadata": {},
   "source": [
    "## Functions\n",
    "For repeating code, functions can be defined with the ```def``` keyword and their outputs can be returned using ```return```. These funtions can be also called recursively."
   ]
  },
  {
   "cell_type": "code",
   "execution_count": 32,
   "id": "d5f33c84",
   "metadata": {},
   "outputs": [
    {
     "name": "stdout",
     "output_type": "stream",
     "text": [
      "Hello John Cleese!\n",
      "Hello Graham Chapman!\n",
      "Hello Eric Idle!\n"
     ]
    }
   ],
   "source": [
    "def get_greeting(name):\n",
    "    return \"Hello \" + name +\"!\"\n",
    "print(get_greeting(\"John Cleese\"))\n",
    "print(get_greeting(\"Graham Chapman\"))\n",
    "print(get_greeting(\"Eric Idle\"))"
   ]
  },
  {
   "cell_type": "code",
   "execution_count": 20,
   "id": "04034c0e",
   "metadata": {},
   "outputs": [
    {
     "ename": "SyntaxError",
     "evalue": "invalid syntax (1882212969.py, line 5)",
     "output_type": "error",
     "traceback": [
      "\u001b[0;36m  Input \u001b[0;32mIn [20]\u001b[0;36m\u001b[0m\n\u001b[0;31m    factorial(10)?\u001b[0m\n\u001b[0m                 ^\u001b[0m\n\u001b[0;31mSyntaxError\u001b[0m\u001b[0;31m:\u001b[0m invalid syntax\n"
     ]
    }
   ],
   "source": [
    "# TODO: Implement the factorial operation\n",
    "def factorial(n):\n",
    "    print(n)\n",
    "    return 0\n",
    "factorial(10)?"
   ]
  },
  {
   "cell_type": "markdown",
   "id": "49898002",
   "metadata": {},
   "source": [
    "## Classes\n",
    "Classes are high-level objects for storing and managing primitives. They are initialized with ```class class_name:``` after which the constructor ```__init__(self, args)``` is automatically called. Data in classes are stored using the ```self``` keyword and are publicly accessible by default."
   ]
  },
  {
   "cell_type": "code",
   "execution_count": 21,
   "id": "dd4ae61f",
   "metadata": {},
   "outputs": [
    {
     "name": "stdout",
     "output_type": "stream",
     "text": [
      "name: Alice ; age: 34\n",
      "name: Alice ; age: 18\n"
     ]
    }
   ],
   "source": [
    "class Person:\n",
    "    def __init__(self, name, age):\n",
    "        self.name = name\n",
    "        self.age = age\n",
    "        \n",
    "    def print_info(self):\n",
    "        print(\"name:\", self.name, \";\", \"age:\", self.age)\n",
    "alice = Person(\"Alice\", 34)\n",
    "alice.print_info()\n",
    "alice.age = 18\n",
    "alice.print_info()"
   ]
  },
  {
   "cell_type": "markdown",
   "id": "0d914e99",
   "metadata": {},
   "source": [
    "## Class Inheritance\n",
    "A class can inherit the properties of its parent class. These properties can be freely overriden:"
   ]
  },
  {
   "cell_type": "code",
   "execution_count": 22,
   "id": "caf893b1",
   "metadata": {},
   "outputs": [
    {
     "name": "stdout",
     "output_type": "stream",
     "text": [
      "Bob is a student!\n"
     ]
    }
   ],
   "source": [
    "class Student(Person):\n",
    "    def print_info(self):\n",
    "        \"\"\"\n",
    "        Beware that the attribute name has been inherited from 'Person'\n",
    "        \"\"\"\n",
    "        print(self.name, \"is a student!\")\n",
    "bob = Student(\"Bob\", 20)\n",
    "bob.print_info()"
   ]
  },
  {
   "cell_type": "markdown",
   "id": "39f231b0",
   "metadata": {},
   "source": [
    "## Numpy Basics\n",
    "Numpy is an performant, easy-to-use scientific library for numeric calculations. You will often encouter cases where numpy can perform calculations several orders of magnitudes faster due its C-backend and ability to process data in a vectorized (parallelized) form."
   ]
  },
  {
   "cell_type": "code",
   "execution_count": 23,
   "id": "dfaeae8a",
   "metadata": {},
   "outputs": [],
   "source": [
    "import numpy as np  # numpy is usually imported this way"
   ]
  },
  {
   "cell_type": "markdown",
   "id": "935518b0",
   "metadata": {},
   "source": [
    "### Numpy One Dimensional Array Operations\n",
    "Numpy operates on arrays element-wise meaning elementary operations are performed in an intuitive way."
   ]
  },
  {
   "cell_type": "code",
   "execution_count": 24,
   "id": "2aff9b94",
   "metadata": {},
   "outputs": [
    {
     "name": "stdout",
     "output_type": "stream",
     "text": [
      "[3. 3. 3. 3. 3. 3. 3. 3. 3. 3.]\n",
      "[11 22 33 44 55 66 77] <class 'numpy.ndarray'>\n"
     ]
    }
   ],
   "source": [
    "zero_array = np.zeros(10)   # creates an an array of 10 zeros\n",
    "one_array  = np.ones(10)    # creates an array of... guess what!\n",
    "two_array  = np.ones(10)*2  # this one is a bit more tricky\n",
    "\n",
    "three_array = one_array + two_array    # arrays are added element-wise\n",
    "print(three_array)\n",
    "\n",
    "# You can also create numpy arrays from python lists:\n",
    "np_array_from_python_list = np.array([11, 22, 33, 44, 55, 66, 77])\n",
    "print(np_array_from_python_list, type(np_array_from_python_list))"
   ]
  },
  {
   "cell_type": "markdown",
   "id": "e6057042",
   "metadata": {},
   "source": [
    "For this to work however the arrays must be of the same shape, otherwise a ```ValueError``` will be raised. In order to avoid this error, you can always access the shape of an array using the ```array.shape``` syntax:"
   ]
  },
  {
   "cell_type": "code",
   "execution_count": 25,
   "id": "1141c56f",
   "metadata": {},
   "outputs": [
    {
     "name": "stdout",
     "output_type": "stream",
     "text": [
      "Shape of array1 (10,)\n",
      "Shape of array2 (5,)\n"
     ]
    },
    {
     "ename": "NameError",
     "evalue": "name 'np_array1' is not defined",
     "output_type": "error",
     "traceback": [
      "\u001b[0;31m---------------------------------------------------------------------------\u001b[0m",
      "\u001b[0;31mNameError\u001b[0m                                 Traceback (most recent call last)",
      "Input \u001b[0;32mIn [25]\u001b[0m, in \u001b[0;36m<cell line: 5>\u001b[0;34m()\u001b[0m\n\u001b[1;32m      3\u001b[0m array2 \u001b[38;5;241m=\u001b[39m np\u001b[38;5;241m.\u001b[39marray([\u001b[38;5;241m10\u001b[39m]\u001b[38;5;241m*\u001b[39m\u001b[38;5;241m5\u001b[39m)               \u001b[38;5;66;03m# [10, 10, 10, 10, 10 ]\u001b[39;00m\n\u001b[1;32m      4\u001b[0m \u001b[38;5;28mprint\u001b[39m(\u001b[38;5;124m\"\u001b[39m\u001b[38;5;124mShape of array2\u001b[39m\u001b[38;5;124m\"\u001b[39m, array2\u001b[38;5;241m.\u001b[39mshape)  \u001b[38;5;66;03m# shape (5,)\u001b[39;00m\n\u001b[0;32m----> 5\u001b[0m \u001b[38;5;28mprint\u001b[39m(\u001b[43mnp_array1\u001b[49m\u001b[38;5;241m/\u001b[39mnp_array2)\n",
      "\u001b[0;31mNameError\u001b[0m: name 'np_array1' is not defined"
     ]
    }
   ],
   "source": [
    "array1 = np.arange(10)                  # [0, 1, 2, ..., 9]\n",
    "print(\"Shape of array1\", array1.shape)  # shape: (10,)\n",
    "array2 = np.array([10]*5)               # [10, 10, 10, 10, 10 ]\n",
    "print(\"Shape of array2\", array2.shape)  # shape (5,)\n",
    "print(np_array1/np_array2)              # Voilà ValueError due to conflicting shapes"
   ]
  },
  {
   "cell_type": "markdown",
   "id": "d236a438",
   "metadata": {},
   "source": [
    "### Numpy Arrays of Multiple Dimensions\n",
    "Numpy supports the creation of n-dimensional arrays (arrays, matrices, tensors). Let's say you wish to generate 5 normally distributed samples of size 1000 with means 0, 10, 20, 30 and 40 and standard deviation 1. For this, you can first generate 5\\*1000 samples around 0, put them into a marix of shape (5, 1000) and shift each distribution to their respective means."
   ]
  },
  {
   "cell_type": "code",
   "execution_count": 26,
   "id": "47d6ecce",
   "metadata": {},
   "outputs": [
    {
     "name": "stdout",
     "output_type": "stream",
     "text": [
      "Shape of the original dataset: (5000,)\n",
      "Shape of the reshaped dataset: (5, 1000)\n"
     ]
    }
   ],
   "source": [
    "ndists = 5\n",
    "sample_size = 1000\n",
    "dataset = np.random.normal(0, 1, ndists*sample_size)             # Dataset generation\n",
    "print(\"Shape of the original dataset:\", dataset.shape)           # Printing the dataset shape\n",
    "dataset_reshaped = dataset.reshape(ndists, sample_size)          # Reshaping it to (5, 1000)\n",
    "print(\"Shape of the reshaped dataset:\", dataset_reshaped.shape)  # Printing the new shape"
   ]
  },
  {
   "cell_type": "markdown",
   "id": "8bffbc39",
   "metadata": {},
   "source": [
    "Now we can define our shift vector, extend it with a new \"dimension\" (called axis, i.e. bring it into the shape (5, 1)), such that all elements at the second index \"see\" a scalar."
   ]
  },
  {
   "cell_type": "code",
   "execution_count": 27,
   "id": "f2ea360c",
   "metadata": {},
   "outputs": [
    {
     "name": "stdout",
     "output_type": "stream",
     "text": [
      "Shift vector shape: (5, 1)\n"
     ]
    }
   ],
   "source": [
    "shift_vector = np.arange(5)*10                    # np.arange(n) creates an array of integers from 0 to n-1\n",
    "shift_vector = shift_vector[:, np.newaxis]        # np.newaxis takes care of the new axis creation\n",
    "print(\"Shift vector shape:\", shift_vector.shape)  # observe that reshape has not been called"
   ]
  },
  {
   "cell_type": "markdown",
   "id": "64fdffa1",
   "metadata": {},
   "source": [
    "Now our gaussians can be shifted to their right places!"
   ]
  },
  {
   "cell_type": "code",
   "execution_count": 28,
   "id": "f0177d95",
   "metadata": {
    "scrolled": true
   },
   "outputs": [
    {
     "data": {
      "image/png": "[encoded data removed]",
      "text/plain": [
       "<Figure size 432x288 with 1 Axes>"
      ]
     },
     "metadata": {
      "needs_background": "light"
     },
     "output_type": "display_data"
    }
   ],
   "source": [
    "dataset_shifted = shift_vector + dataset_reshaped  # shape (5, 1) + shape (5, 1000) = shape (5, 1000)\n",
    "\n",
    "import matplotlib.pyplot as plt                    # import the plotting library to showcase the results\n",
    "for hist in dataset_shifted:                       # Iterate over every distribution\n",
    "    plt.hist(hist)"
   ]
  },
  {
   "cell_type": "code",
   "execution_count": 29,
   "id": "439f4bf4",
   "metadata": {
    "scrolled": true
   },
   "outputs": [
    {
     "data": {
      "image/png": "[encoded data removed]",
      "text/plain": [
       "<Figure size 432x288 with 1 Axes>"
      ]
     },
     "metadata": {
      "needs_background": "light"
     },
     "output_type": "display_data"
    }
   ],
   "source": [
    "# ... or you check the documentation and solve the problem directly by invoking:\n",
    "dataset_shifted = np.random.normal(loc=np.arange(5)*10, scale=np.ones(5), size=(1000, 5)).T\n",
    "for hist in dataset_shifted:\n",
    "    plt.hist(hist)\n",
    "\n",
    "# Always check the docs before inventing something \"new\"!"
   ]
  },
  {
   "cell_type": "markdown",
   "id": "7a826bff",
   "metadata": {},
   "source": [
    "## Numpy Miscellaneous:\n",
    "### Functions\n",
    "Below you can find a non-exhaustive list of built-in numpy functions for quick data analysis:"
   ]
  },
  {
   "cell_type": "code",
   "execution_count": 30,
   "id": "973bd72b",
   "metadata": {},
   "outputs": [
    {
     "name": "stdout",
     "output_type": "stream",
     "text": [
      "Basic array operations:\n",
      "Sum 5050\n",
      "Mean [ 0.08110435  9.98545632 20.02933072 30.02389687 39.97474169]\n",
      "Std [0.99851965 0.97608616 1.0021044  0.98741231 1.00744611]\n",
      "Flattened array: [-0.44605952 -0.22217352 -0.25286257 ... 41.29848664 39.92391046\n",
      " 39.72392673]\n"
     ]
    }
   ],
   "source": [
    "print(\"Basic array operations:\")\n",
    "print(\"Sum\", np.sum(np.arange(101)))             # Sum of all numbers from 0 to 100\n",
    "print(\"Mean\", np.mean(dataset_shifted, axis=1))  # Mean of the generated gaussians from above...\n",
    "print(\"Std\", dataset_shifted.std(axis=1))        # ...and their respective standard deviations with a different syntax\n",
    "\n",
    "print(\"Flattened array:\", dataset_shifted.flatten())       # .flatten() makes an array 1D"
   ]
  },
  {
   "cell_type": "markdown",
   "id": "fdacbe66",
   "metadata": {},
   "source": [
    "### Array Indexing\n",
    "Numpy support a powerful way of accessing entries of an array. For this purpose, ranges using ```:```, numpy arrays of integers and numpy arrays of booleans can be used:"
   ]
  },
  {
   "cell_type": "code",
   "execution_count": 5,
   "id": "e15a8939",
   "metadata": {},
   "outputs": [
    {
     "name": "stdout",
     "output_type": "stream",
     "text": [
      "[20 21 22 23 24 25 26 27 28 29]\n",
      "[0 1 2 3 4 5 6 7 8 9]\n",
      "[95 96 97 98 99]\n",
      "[10 13 21]\n",
      "[18 19 17 23 13  3  6 12  7 25  0  9 14 27  1 11  2 29 26  8 28  5 30 15\n",
      " 10 20 24 21 22  4 16]\n",
      "[[False  True  True False]\n",
      " [False False False  True]\n",
      " [False False False False]\n",
      " [False False  True  True]\n",
      " [ True False False False]\n",
      " [False False  True False]\n",
      " [ True False False  True]\n",
      " [False  True False False]\n",
      " [ True  True False False]\n",
      " [False  True False False]\n",
      " [False False False False]\n",
      " [False False False False]\n",
      " [False False False  True]\n",
      " [False  True  True False]\n",
      " [False False False  True]\n",
      " [ True False False  True]\n",
      " [False False  True False]\n",
      " [ True False  True  True]\n",
      " [False False False False]\n",
      " [False False  True False]\n",
      " [False  True False False]\n",
      " [False  True False False]\n",
      " [False  True  True False]\n",
      " [False False False  True]\n",
      " [ True False  True False]]\n"
     ]
    }
   ],
   "source": [
    "array_to_be_masked = np.arange(100)\n",
    "\n",
    "# Let's select the entries between index 20 and 30:\n",
    "print(array_to_be_masked[20:30])\n",
    "\n",
    "# First 10 entries:\n",
    "print(array_to_be_masked[:10])\n",
    "\n",
    "# Print the last 5 elements:\n",
    "print(array_to_be_masked[-5:])\n",
    "\n",
    "# Print the 10th, 13th and 21st elements:\n",
    "print(array_to_be_masked[np.array([10, 13, 21])])\n",
    "\n",
    "# Let's shuffle the elements and reshape the array to make things more complicated!\n",
    "np.random.shuffle(array_to_be_masked)\n",
    "array_to_be_masked = array_to_be_masked.reshape((25, -1))  # \"-1\" means \"do whatever needed to get the right shape\"\n",
    "\n",
    "# Select all entries <=30 in the flattened array:\n",
    "print(array_to_be_masked[(array_to_be_masked<=30)])\n",
    "\n",
    "# Print the mask:\n",
    "print((array_to_be_masked<=30))"
   ]
  }
 ],
 "metadata": {
  "kernelspec": {
   "display_name": "Python 3 (ipykernel)",
   "language": "python",
   "name": "python3"
  },
  "language_info": {
   "codemirror_mode": {
    "name": "ipython",
    "version": 3
   },
   "file_extension": ".py",
   "mimetype": "text/x-python",
   "name": "python",
   "nbconvert_exporter": "python",
   "pygments_lexer": "ipython3",
   "version": "3.9.12"
  }
 },
 "nbformat": 4,
 "nbformat_minor": 5
}
