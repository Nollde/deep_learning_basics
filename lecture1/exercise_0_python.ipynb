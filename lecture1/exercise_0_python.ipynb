{
 "cells": [
  {
   "cell_type": "markdown",
   "id": "897fcfcd",
   "metadata": {},
   "source": [
    "# Python Tutorial\n",
    "-----------------------\n",
    "\n",
    "Welcome to this warm-up tutorial! Let's take a look at some highlights of Python!\n",
    "\n",
    "Please execute the whole notebook now by clicking on Execution->Execute All in the menubar. In the following, cells starting with TODOs are tasks to be solved individually.\n",
    "\n",
    "Let's start with the usual **hello world** program:"
   ]
  },
  {
   "cell_type": "code",
   "execution_count": 1,
   "id": "c8562e26",
   "metadata": {
    "scrolled": false
   },
   "outputs": [
    {
     "name": "stdout",
     "output_type": "stream",
     "text": [
      "Hello World!\n"
     ]
    }
   ],
   "source": [
    "print(\"Hello World!\")"
   ]
  },
  {
   "cell_type": "markdown",
   "id": "48a13786",
   "metadata": {},
   "source": [
    "You can print multiple items in a row:"
   ]
  },
  {
   "cell_type": "code",
   "execution_count": 2,
   "id": "bea4da9f",
   "metadata": {},
   "outputs": [
    {
     "name": "stdout",
     "output_type": "stream",
     "text": [
      "1 + 12 = 13\n"
     ]
    }
   ],
   "source": [
    "print(\"1 + 12 =\", 13)"
   ]
  },
  {
   "cell_type": "markdown",
   "id": "5a70d15c",
   "metadata": {},
   "source": [
    "## Comments\n",
    "You can also comment your code with ```#``` for a **single line** or with ```\"\"\"comment\"\"\"``` for **multiple lines**:"
   ]
  },
  {
   "cell_type": "code",
   "execution_count": 3,
   "id": "6b5d414b",
   "metadata": {},
   "outputs": [],
   "source": [
    "# This is a comment and will be ignored upon execution"
   ]
  },
  {
   "cell_type": "code",
   "execution_count": 4,
   "id": "d69d90e9",
   "metadata": {},
   "outputs": [
    {
     "name": "stdout",
     "output_type": "stream",
     "text": [
      "What's that thing that spells the same backwards as forwards?\n",
      "A palindrome...?\n"
     ]
    }
   ],
   "source": [
    "print(\"What's that thing that spells the same backwards as forwards?\")\n",
    "\"\"\"\n",
    "I am a comment too!\n",
    "See, this line is ignored as well!\n",
    "\"\"\"\n",
    "print(\"A palindrome...?\")"
   ]
  },
  {
   "cell_type": "markdown",
   "id": "c4c8535a",
   "metadata": {},
   "source": [
    "## Variables and Data-Types\n",
    "Python is a **dynamically-typed** language, i.e. you don't have to define your variable types in advance:"
   ]
  },
  {
   "cell_type": "code",
   "execution_count": 5,
   "id": "f7179786",
   "metadata": {},
   "outputs": [],
   "source": [
    "a = 13  # This is an integer\n",
    "b = \"This is a string\"  # This is a string\n",
    "c = True   # A boolean \n",
    "d = 14.5  # This is a double-precision floating-point variable (called a 'double' in C-speak)\n",
    "e = [1, 3, 15, 34]  # This is a list, an array of objects\n",
    "f = (\"Emmental\", \"Brie\", \"Gouda\", \"Danish Blue\")  # This is a tuple, an immutable array"
   ]
  },
  {
   "cell_type": "code",
   "execution_count": 6,
   "id": "d0586d1b",
   "metadata": {},
   "outputs": [
    {
     "name": "stdout",
     "output_type": "stream",
     "text": [
      "The second element in e is: 15 (should be 3)\n"
     ]
    }
   ],
   "source": [
    "# You can use squared brackets to access elements in an array or tuple\n",
    "print(\"The second element in e is:\", e[2],\"(should be 3)\")"
   ]
  },
  {
   "cell_type": "markdown",
   "id": "0019db03",
   "metadata": {},
   "source": [
    "## Elementary Arithmetics\n",
    "You can use the usual **operators** ```+```, ```-```, ```*```, ```/``` for elementary arithmetics:"
   ]
  },
  {
   "cell_type": "code",
   "execution_count": 7,
   "id": "86b8e68c",
   "metadata": {},
   "outputs": [
    {
     "name": "stdout",
     "output_type": "stream",
     "text": [
      "13 x 14.5 = 188.5\n"
     ]
    }
   ],
   "source": [
    "print(\"13 x 14.5 =\", a*d)"
   ]
  },
  {
   "cell_type": "markdown",
   "id": "32b1985e",
   "metadata": {},
   "source": [
    "You can use the **double star** ```**```-operator to raise number to the **n-th power**:"
   ]
  },
  {
   "cell_type": "code",
   "execution_count": 8,
   "id": "8c45add3",
   "metadata": {},
   "outputs": [
    {
     "name": "stdout",
     "output_type": "stream",
     "text": [
      "1 4 9 16 1024\n"
     ]
    }
   ],
   "source": [
    "print(1**2, 2**2, 3**2, 4**2, 32**2)"
   ]
  },
  {
   "cell_type": "code",
   "execution_count": 9,
   "id": "29eac6ed",
   "metadata": {},
   "outputs": [
    {
     "name": "stdout",
     "output_type": "stream",
     "text": [
      "13 + True = 14\n"
     ]
    }
   ],
   "source": [
    "# Booleans work as numbers as well. What happens if you add a and c?\n",
    "print(\"13 + True =\", 13+True)"
   ]
  },
  {
   "cell_type": "markdown",
   "id": "f6d98d65",
   "metadata": {},
   "source": [
    "## Comparison Opeartors\n",
    "You can use ```<```, ```>```, ```==```, ```<=```, ```>=``` to **compare numbers** (**and objects**), the **keywords** ```and```, ```or``` to compare statements (booleans) and the keyword ```not``` to negate them.\n"
   ]
  },
  {
   "cell_type": "code",
   "execution_count": 10,
   "id": "b0a7cbe1",
   "metadata": {},
   "outputs": [
    {
     "name": "stdout",
     "output_type": "stream",
     "text": [
      "False\n"
     ]
    }
   ],
   "source": [
    "# The output of (\"a bigger than d\" AND \"c is True\")\n",
    "print((a>=d) and (c))"
   ]
  },
  {
   "cell_type": "markdown",
   "id": "cbba9080",
   "metadata": {},
   "source": [
    "## Control Flow Tools\n",
    "For pre-test loops you can use ```while```. Beware that in Python indented blocks of code belong to the same parent line (similarly to ```{...}``` in C); mixing indentations raises an ```IndentationError```."
   ]
  },
  {
   "cell_type": "code",
   "execution_count": 11,
   "id": "5f42b63f",
   "metadata": {},
   "outputs": [
    {
     "ename": "IndentationError",
     "evalue": "unexpected indent (989773714.py, line 5)",
     "output_type": "error",
     "traceback": [
      "\u001b[0;36m  File \u001b[0;32m\"/var/folders/dw/z8g0cw_s0nzcv0z1jn7vfgsm0000gn/T/ipykernel_1148/989773714.py\"\u001b[0;36m, line \u001b[0;32m5\u001b[0m\n\u001b[0;31m    i = i + 1\u001b[0m\n\u001b[0m    ^\u001b[0m\n\u001b[0;31mIndentationError\u001b[0m\u001b[0;31m:\u001b[0m unexpected indent\n"
     ]
    }
   ],
   "source": [
    "# See, the while loop below is broken!\n",
    "i = 0\n",
    "while i<4:\n",
    "  print(i)     # <-- The loop breaks here!\n",
    "    i = i + 1"
   ]
  },
  {
   "cell_type": "markdown",
   "id": "118d8935",
   "metadata": {},
   "source": [
    "Using ```for``` and the iterable ```range(n)``` a for-like loop can be created:"
   ]
  },
  {
   "cell_type": "code",
   "execution_count": 12,
   "id": "7740d793",
   "metadata": {},
   "outputs": [
    {
     "name": "stdout",
     "output_type": "stream",
     "text": [
      "10\n"
     ]
    }
   ],
   "source": [
    "# A loop adding up all the numbers from 0 to 100 and printing the result at the end:\n",
    "sum = 0\n",
    "for i in range(5):\n",
    "    sum = sum + i\n",
    "print(sum)"
   ]
  },
  {
   "cell_type": "markdown",
   "id": "fd2059e5",
   "metadata": {},
   "source": [
    "For **conditional branching**, the usual keywords ```if``` and ```else``` are defined. Loops can be stopped with ```break``` and skipped with ```continue```."
   ]
  },
  {
   "cell_type": "markdown",
   "id": "db6f86f8",
   "metadata": {},
   "source": [
    "### Task: <a class=\"tocSkip\"> \n",
    "Write a small program checking whether i is an even or odd number for every integer i in [0, 10)."
   ]
  },
  {
   "cell_type": "code",
   "execution_count": 13,
   "id": "0c47c5d6",
   "metadata": {},
   "outputs": [
    {
     "name": "stdout",
     "output_type": "stream",
     "text": [
      "0 is an odd/even number\n"
     ]
    }
   ],
   "source": [
    "# TODO: With i%2, you can get the modulus of i divided by two.\n",
    "# TODO: Use 'continue' to skip 0!\n",
    "n = 1\n",
    "for i in range(n):\n",
    "    if True:\n",
    "        print(i, \"is an odd/even number\")\n",
    "    else:\n",
    "        print(\"else block\")"
   ]
  },
  {
   "cell_type": "markdown",
   "id": "f51fc582",
   "metadata": {},
   "source": [
    "## Functions\n",
    "For repeating code, functions can be defined with the ```def``` keyword and their outputs can be returned using ```return```."
   ]
  },
  {
   "cell_type": "code",
   "execution_count": 14,
   "id": "d5f33c84",
   "metadata": {},
   "outputs": [
    {
     "name": "stdout",
     "output_type": "stream",
     "text": [
      "Hello John Cleese!\n",
      "Hello Graham Chapman!\n",
      "Hello Eric Idle!\n"
     ]
    }
   ],
   "source": [
    "def get_greeting(name):\n",
    "    return \"Hello \" + name +\"!\"\n",
    "print(get_greeting(\"John Cleese\"))\n",
    "print(get_greeting(\"Graham Chapman\"))\n",
    "print(get_greeting(\"Eric Idle\"))"
   ]
  },
  {
   "cell_type": "markdown",
   "id": "3c16d62e",
   "metadata": {},
   "source": [
    "These functions can be also called recursively -- for this, we can take a look at the factorial function:"
   ]
  },
  {
   "cell_type": "code",
   "execution_count": 15,
   "id": "04034c0e",
   "metadata": {},
   "outputs": [
    {
     "name": "stdout",
     "output_type": "stream",
     "text": [
      "720\n"
     ]
    }
   ],
   "source": [
    "# A basic implementation of the factorial operation:\n",
    "def factorial(n):\n",
    "    if n>1:\n",
    "        return n*factorial(n-1)\n",
    "    else:\n",
    "        return 1\n",
    "print(factorial(6))"
   ]
  },
  {
   "cell_type": "markdown",
   "id": "49898002",
   "metadata": {},
   "source": [
    "## Classes\n",
    "**Classes** are high-level objects for **storing and managing primitives**. They are initialized with ```class class_name:``` after which the constructor ```__init__(self, args)``` is automatically called.\n",
    "\n",
    "**Data** in classes are stored using the ```self``` keyword and are **publicly accessible** by default."
   ]
  },
  {
   "cell_type": "code",
   "execution_count": 16,
   "id": "dd4ae61f",
   "metadata": {},
   "outputs": [
    {
     "name": "stdout",
     "output_type": "stream",
     "text": [
      "name: Alice ; age: 34\n",
      "name: Alice ; age: 18\n"
     ]
    }
   ],
   "source": [
    "class Person:\n",
    "    def __init__(self, name, age):\n",
    "        self.name = name\n",
    "        self.age = age\n",
    "        \n",
    "    def print_info(self):\n",
    "        print(\"name:\", self.name, \";\", \"age:\", self.age)\n",
    "alice = Person(\"Alice\", 34)\n",
    "alice.print_info()\n",
    "alice.age = 18\n",
    "alice.print_info()"
   ]
  },
  {
   "cell_type": "markdown",
   "id": "0d914e99",
   "metadata": {},
   "source": [
    "## Class Inheritance\n",
    "A class can **inherit** the **properties of its parent** class. These properties can be freely overriden:"
   ]
  },
  {
   "cell_type": "code",
   "execution_count": 17,
   "id": "caf893b1",
   "metadata": {},
   "outputs": [
    {
     "name": "stdout",
     "output_type": "stream",
     "text": [
      "Bob is a student!\n"
     ]
    }
   ],
   "source": [
    "class Student(Person):\n",
    "    def print_info(self):\n",
    "        \"\"\"\n",
    "        Beware that the attribute name has been inherited from 'Person'\n",
    "        \"\"\"\n",
    "        print(self.name, \"is a student!\")\n",
    "bob = Student(\"Bob\", 20)\n",
    "bob.print_info()"
   ]
  },
  {
   "cell_type": "markdown",
   "id": "39f231b0",
   "metadata": {},
   "source": [
    "## Numpy Basics\n",
    "Numpy is an performant, easy-to-use scientific library for numeric calculations. You will often encouter cases where numpy can perform calculations several orders of magnitudes faster due its C-backend and ability to process data in a vectorized (parallelized) form."
   ]
  },
  {
   "cell_type": "code",
   "execution_count": 18,
   "id": "dfaeae8a",
   "metadata": {},
   "outputs": [],
   "source": [
    "import numpy as np  # numpy is usually imported this way"
   ]
  },
  {
   "cell_type": "markdown",
   "id": "935518b0",
   "metadata": {},
   "source": [
    "### Numpy One Dimensional Array Operations\n",
    "```numpy``` arrays can often be used in the same way as their low dimensional counterparts. ```numpy``` interally **boradcasts** the arrays to the correct shapes to perform operations with many values in a **vectorized manner** often making them very fast and resource efficient."
   ]
  },
  {
   "cell_type": "code",
   "execution_count": 19,
   "id": "2aff9b94",
   "metadata": {},
   "outputs": [
    {
     "name": "stdout",
     "output_type": "stream",
     "text": [
      "[3. 3. 3. 3. 3. 3. 3. 3. 3. 3.]\n",
      "[11 22 33 44 55 66 77] <class 'numpy.ndarray'>\n"
     ]
    }
   ],
   "source": [
    "zero_array = np.zeros(10)   # creates an an array of 10 zeros\n",
    "one_array  = np.ones(10)    # creates an array of... guess what!\n",
    "two_array  = np.ones(10)*2  # this one is a bit more tricky\n",
    "\n",
    "three_array = one_array + two_array    # arrays are added element-wise\n",
    "print(three_array)\n",
    "\n",
    "# You can also create numpy arrays from python lists:\n",
    "np_array_from_python_list = np.array([11, 22, 33, 44, 55, 66, 77])\n",
    "print(np_array_from_python_list, type(np_array_from_python_list))"
   ]
  },
  {
   "cell_type": "markdown",
   "id": "e6057042",
   "metadata": {},
   "source": [
    "For this to work however the arrays must be of the **same shape**, otherwise a ```ValueError``` will be raised. In order to avoid this error, you can always access the shape of an array using the ```array.shape``` syntax:"
   ]
  },
  {
   "cell_type": "code",
   "execution_count": 22,
   "id": "1141c56f",
   "metadata": {},
   "outputs": [
    {
     "ename": "SyntaxError",
     "evalue": "invalid syntax (2922105338.py, line 5)",
     "output_type": "error",
     "traceback": [
      "\u001b[0;36m  File \u001b[0;32m\"/var/folders/dw/z8g0cw_s0nzcv0z1jn7vfgsm0000gn/T/ipykernel_1148/2922105338.py\"\u001b[0;36m, line \u001b[0;32m5\u001b[0m\n\u001b[0;31m    print(array1/array2)                    ''# Voilà ValueError due to conflicting shapes\u001b[0m\n\u001b[0m                                            ^\u001b[0m\n\u001b[0;31mSyntaxError\u001b[0m\u001b[0;31m:\u001b[0m invalid syntax\n"
     ]
    }
   ],
   "source": [
    "array1 = np.arange(10)                  # [0, 1, 2, ..., 9]\n",
    "print(\"Shape of array1\", array1.shape)  # shape: (10,)\n",
    "array2 = np.array([10]*5)               # [10, 10, 10, 10, 10 ]\n",
    "print(\"Shape of array2\", array2.shape)  # shape (5,)\n",
    "print(array1/array2)                    ''# Voilà ValueError due to conflicting shapes"
   ]
  },
  {
   "cell_type": "markdown",
   "id": "d236a438",
   "metadata": {},
   "source": [
    "### Numpy Arrays of Multiple Dimensions\n",
    "Numpy supports the creation of n-dimensional arrays (arrays, matrices, tensors). Let's say you wish to generate 5 normally distributed samples of size 1000 with means 0, 10, 20, 30 and 40 and standard deviation 1. For this, you can first generate 5\\*1000 samples around 0, put them into a marix of shape (5, 1000) and shift each distribution to their respective means."
   ]
  },
  {
   "cell_type": "markdown",
   "id": "78db6018",
   "metadata": {},
   "source": [
    "### Task: <a class=\"tocSkip\">\n",
    "Implement the algirithm from above. Use ```array.reshape``` to reshape the dataset and create a vector of (5, 1) (eventually by using ```vector = vector[:, np.newaxis]```) which can be added to the dataset to perform the shift.\n",
    "    \n",
    "You can see the result of the expected distributions below."
   ]
  },
  {
   "cell_type": "code",
   "execution_count": 30,
   "id": "f0177d95",
   "metadata": {
    "scrolled": true
   },
   "outputs": [
    {
     "ename": "NameError",
     "evalue": "name 'shift_vector' is not defined",
     "output_type": "error",
     "traceback": [
      "\u001b[0;31m---------------------------------------------------------------------------\u001b[0m",
      "\u001b[0;31mNameError\u001b[0m                                 Traceback (most recent call last)",
      "\u001b[0;32m/var/folders/dw/z8g0cw_s0nzcv0z1jn7vfgsm0000gn/T/ipykernel_1148/2775394423.py\u001b[0m in \u001b[0;36m<cell line: 5>\u001b[0;34m()\u001b[0m\n\u001b[1;32m      3\u001b[0m \u001b[0;31m# TODO: Perform the shift and plot the result using the code below.\u001b[0m\u001b[0;34m\u001b[0m\u001b[0;34m\u001b[0m\u001b[0;34m\u001b[0m\u001b[0m\n\u001b[1;32m      4\u001b[0m \u001b[0;32mimport\u001b[0m \u001b[0mmatplotlib\u001b[0m\u001b[0;34m.\u001b[0m\u001b[0mpyplot\u001b[0m \u001b[0;32mas\u001b[0m \u001b[0mplt\u001b[0m\u001b[0;34m\u001b[0m\u001b[0;34m\u001b[0m\u001b[0m\n\u001b[0;32m----> 5\u001b[0;31m \u001b[0mdataset_shifted\u001b[0m \u001b[0;34m=\u001b[0m \u001b[0mshift_vector\u001b[0m \u001b[0;34m+\u001b[0m \u001b[0mdataset_reshaped\u001b[0m  \u001b[0;31m# shape (5, 1) + shape (5, 1000) = shape (5, 1000)\u001b[0m\u001b[0;34m\u001b[0m\u001b[0;34m\u001b[0m\u001b[0m\n\u001b[0m\u001b[1;32m      6\u001b[0m \u001b[0;34m\u001b[0m\u001b[0m\n\u001b[1;32m      7\u001b[0m \u001b[0;32mimport\u001b[0m \u001b[0mmatplotlib\u001b[0m\u001b[0;34m.\u001b[0m\u001b[0mpyplot\u001b[0m \u001b[0;32mas\u001b[0m \u001b[0mplt\u001b[0m                    \u001b[0;31m# import the plotting library to showcase the results\u001b[0m\u001b[0;34m\u001b[0m\u001b[0;34m\u001b[0m\u001b[0m\n",
      "\u001b[0;31mNameError\u001b[0m: name 'shift_vector' is not defined"
     ]
    }
   ],
   "source": [
    "# TODO: Create the dataset of shape (5*1000) and reshape it to (5, 1000).\n",
    "# TODO: Create the shift vector and reshape it to (5, 1)\n",
    "# TODO: Perform the shift and plot the result using the code below.\n",
    "\n",
    "dataset_shifted = shift_vector + dataset_reshaped  # shape (5, 1) + shape (5, 1000) = shape (5, 1000)\n",
    "\n",
    "import matplotlib.pyplot as plt                    # import the plotting library to showcase the results\n",
    "for hist in dataset_shifted:                       # Iterate over every distribution\n",
    "    plt.hist(hist)"
   ]
  },
  {
   "cell_type": "code",
   "execution_count": 31,
   "id": "439f4bf4",
   "metadata": {
    "scrolled": true
   },
   "outputs": [
    {
     "data": {
      "image/png": "[encoded data removed]",
      "text/plain": [
       "<Figure size 432x288 with 1 Axes>"
      ]
     },
     "metadata": {
      "needs_background": "light"
     },
     "output_type": "display_data"
    }
   ],
   "source": [
    "# You can also check the documentation and solve the problem directly by invoking:\n",
    "dataset_shifted = np.random.normal(loc=np.arange(5)*10, scale=np.ones(5), size=(1000, 5)).T\n",
    "for hist in dataset_shifted:\n",
    "    plt.hist(hist)\n",
    "\n",
    "# By the way, always check the docs before inventing something \"new\"!"
   ]
  },
  {
   "cell_type": "markdown",
   "id": "43f66264",
   "metadata": {},
   "source": [
    "### Numpy Matrix Operations\n",
    "By default, numpy performs element-wise multiplication using the star-operator ```*```. For matrix-matrix, matrix-vector multiplications the ```@``` can be used:"
   ]
  },
  {
   "cell_type": "code",
   "execution_count": 32,
   "id": "25b44ae6",
   "metadata": {},
   "outputs": [
    {
     "name": "stdout",
     "output_type": "stream",
     "text": [
      "Manual operation M*v:    [-1. -3.]\n",
      "Matrix multiplication @: [-1. -3.]\n"
     ]
    }
   ],
   "source": [
    "# Define a matrix manually:\n",
    "matrix = np.array([[1., 1.], \n",
    "                   [0., 3.]])\n",
    "\n",
    "# Define a vector manually:\n",
    "vector = np.array([0., -1.])\n",
    "\n",
    "# The dirty and manual way would be:\n",
    "print(\"Manual operation M*v:   \", (matrix*vector[np.newaxis,:]).sum(axis=1))\n",
    "\n",
    "# Fortunately, the @-operator exists!\n",
    "print(\"Matrix multiplication @:\", matrix@vector)"
   ]
  },
  {
   "cell_type": "markdown",
   "id": "7a826bff",
   "metadata": {},
   "source": [
    "## Numpy Miscellaneous:\n",
    "### Functions\n",
    "Below you can find a non-exhaustive list of built-in numpy functions for quick data analysis:"
   ]
  },
  {
   "cell_type": "code",
   "execution_count": 33,
   "id": "973bd72b",
   "metadata": {},
   "outputs": [
    {
     "name": "stdout",
     "output_type": "stream",
     "text": [
      "Basic array operations:\n",
      "Sum 5050\n",
      "Mean [-0.04172669 10.01059967 20.07862586 29.99050017 40.05024386]\n",
      "Std [1.00110221 0.95168778 1.01208145 0.98144319 1.01642367]\n",
      "Flattened array: [-0.21562519  0.18257065  0.2927001  ... 39.50956013 40.74410369\n",
      " 37.84251543]\n"
     ]
    }
   ],
   "source": [
    "print(\"Basic array operations:\")\n",
    "print(\"Sum\", np.sum(np.arange(101)))             # Sum of all numbers from 0 to 100\n",
    "print(\"Mean\", np.mean(dataset_shifted, axis=1))  # Mean of the generated gaussians from above...\n",
    "print(\"Std\", dataset_shifted.std(axis=1))        # ...and their respective standard deviations with a different syntax\n",
    "\n",
    "print(\"Flattened array:\", dataset_shifted.flatten())       # .flatten() makes an array 1D"
   ]
  },
  {
   "cell_type": "markdown",
   "id": "fdacbe66",
   "metadata": {},
   "source": [
    "### Array Indexing\n",
    "Numpy supports a powerful way of accessing entries of an array. For this purpose, ranges using ```:```, numpy arrays of integers and numpy arrays of booleans can be used:"
   ]
  },
  {
   "cell_type": "code",
   "execution_count": 34,
   "id": "e15a8939",
   "metadata": {},
   "outputs": [
    {
     "name": "stdout",
     "output_type": "stream",
     "text": [
      "[20 21 22 23 24 25 26 27 28 29]\n",
      "[0 1 2 3 4 5 6 7 8 9]\n",
      "[95 96 97 98 99]\n",
      "[10 13 21]\n"
     ]
    }
   ],
   "source": [
    "array_to_be_masked = np.arange(100)\n",
    "\n",
    "# Let's select the entries between index 20 and 30:\n",
    "print(array_to_be_masked[20:30])\n",
    "\n",
    "# First 10 entries:\n",
    "print(array_to_be_masked[:10])\n",
    "\n",
    "# Print the last 5 elements:\n",
    "print(array_to_be_masked[-5:])\n",
    "\n",
    "# Print the 10th, 13th and 21st elements:\n",
    "print(array_to_be_masked[np.array([10, 13, 21])])"
   ]
  },
  {
   "cell_type": "code",
   "execution_count": 35,
   "id": "2af74b4a",
   "metadata": {},
   "outputs": [
    {
     "name": "stdout",
     "output_type": "stream",
     "text": [
      "[84 72 31 38]\n",
      "[ 9  2 18  3  7  1 24  5 26 28 29 27 11 22 14  8 10 20 23  6 13 15 21 30\n",
      " 19  0 16 25 17 12  4]\n",
      "[[False False False False]\n",
      " [ True  True  True False]\n",
      " [ True False False False]\n",
      " [False False False  True]\n",
      " [False False  True  True]\n",
      " [ True False  True False]\n",
      " [ True False False False]\n",
      " [ True False False False]\n",
      " [False False False False]\n",
      " [ True False False False]\n",
      " [False False False  True]\n",
      " [False False False  True]\n",
      " [False False False False]\n",
      " [ True False  True False]\n",
      " [False False False  True]\n",
      " [ True False False False]\n",
      " [False  True  True False]\n",
      " [ True  True  True  True]\n",
      " [False False False False]\n",
      " [False False False  True]\n",
      " [ True False  True False]\n",
      " [False  True False False]\n",
      " [False False  True False]\n",
      " [False False False  True]\n",
      " [False  True False False]]\n"
     ]
    }
   ],
   "source": [
    "# Let's shuffle the elements and reshape the array to make things more complicated!\n",
    "np.random.shuffle(array_to_be_masked)\n",
    "array_to_be_masked = array_to_be_masked.reshape((25, -1))  # \"-1\" means \"do whatever needed to get the right shape\"\n",
    "\n",
    "# Select the first entries in each row (slicing)\n",
    "print(array_to_be_masked[0, :])\n",
    "\n",
    "# Select all entries <=30 in the flattened array:\n",
    "print(array_to_be_masked[(array_to_be_masked<=30)])\n",
    "\n",
    "# Print the mask:\n",
    "print((array_to_be_masked<=30))"
   ]
  }
 ],
 "metadata": {
  "kernelspec": {
   "display_name": "Python 3 (ipykernel)",
   "language": "python",
   "name": "python3"
  },
  "language_info": {
   "codemirror_mode": {
    "name": "ipython",
    "version": 3
   },
   "file_extension": ".py",
   "mimetype": "text/x-python",
   "name": "python",
   "nbconvert_exporter": "python",
   "pygments_lexer": "ipython3",
   "version": "3.8.8"
  },
  "toc": {
   "base_numbering": 1,
   "nav_menu": {},
   "number_sections": true,
   "sideBar": true,
   "skip_h1_title": true,
   "title_cell": "Table of Contents",
   "title_sidebar": "Contents",
   "toc_cell": false,
   "toc_position": {},
   "toc_section_display": true,
   "toc_window_display": false
  }
 },
 "nbformat": 4,
 "nbformat_minor": 5
}
