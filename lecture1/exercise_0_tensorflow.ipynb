{
 "cells": [
  {
   "cell_type": "markdown",
   "id": "269d507c",
   "metadata": {},
   "source": [
    "# Tensorflow Tutorial\n",
    "---------------------------------\n",
    "\n",
    "Welcome to the Tesorflow tutorial! Here we are going to go through the most fundamental functions and the syntax of the library.\n",
    "\n",
    "Usually, tensorflow is imported as ``` tf```:"
   ]
  },
  {
   "cell_type": "code",
   "execution_count": 1,
   "id": "fb7e3964",
   "metadata": {},
   "outputs": [],
   "source": [
    "import tensorflow as tf"
   ]
  },
  {
   "cell_type": "markdown",
   "id": "ffc59cef",
   "metadata": {},
   "source": [
    "## Tensors\n",
    "One can create tensors in tensorflow using a **syntax similar to** that of **numpy**. These objects are considered to be constants by the library and hence **cannot be modified**; each operation on these objects returns a new tensor object.\n",
    "\n",
    "You can find some examples of tensor creation below:"
   ]
  },
  {
   "cell_type": "code",
   "execution_count": 2,
   "id": "e776d989",
   "metadata": {},
   "outputs": [
    {
     "name": "stdout",
     "output_type": "stream",
     "text": [
      "tf.ones([3, 2]) = tf.Tensor([0. 0. 0. 0. 0.], shape=(5,), dtype=float32)\n",
      "tf.zeros([5]) = tf.Tensor(\n",
      "[[1. 1.]\n",
      " [1. 1.]\n",
      " [1. 1.]], shape=(3, 2), dtype=float32)\n",
      "tf.random_uniform([1, 3]) = tf.Tensor(\n",
      "[[0.6397505  0.4475379  0.7460896 ]\n",
      " [0.40134668 0.6757213  0.14884555]], shape=(2, 3), dtype=float32)\n",
      "tf.linspace(1.0, 7.0, 4) = tf.Tensor([1. 3. 5. 7.], shape=(4,), dtype=float64)\n",
      "tf.convert_to_tensor( np.linspace(1, 7, 4) ) = tf.Tensor([1. 3. 5. 7.], shape=(4,), dtype=float64)\n"
     ]
    },
    {
     "name": "stderr",
     "output_type": "stream",
     "text": [
      "2022-08-02 16:29:05.625051: I tensorflow/compiler/jit/xla_cpu_device.cc:41] Not creating XLA devices, tf_xla_enable_xla_devices not set\n",
      "2022-08-02 16:29:05.626364: I tensorflow/core/platform/cpu_feature_guard.cc:142] This TensorFlow binary is optimized with oneAPI Deep Neural Network Library (oneDNN) to use the following CPU instructions in performance-critical operations:  SSE4.1 SSE4.2 AVX\n",
      "To enable them in other operations, rebuild TensorFlow with the appropriate compiler flags.\n",
      "2022-08-02 16:29:05.629373: I tensorflow/core/common_runtime/process_util.cc:146] Creating new thread pool with default inter op setting: 2. Tune using inter_op_parallelism_threads for best performance.\n"
     ]
    }
   ],
   "source": [
    "t1 = tf.zeros([5])              # Zeros of length 5 (note the necessary squared brackets)\n",
    "t2 = tf.ones([3, 2])            # Array of ones of shape (3, 2)\n",
    "t3 = tf.random.uniform([2, 3])  # Random sampling from the interval [0, 1) as a shape (2, 3)\n",
    "t4 = tf.linspace(1, 7, 4)       # Create a tensor of linear spacing from 1 to 7 with 4 entries\n",
    "t5 = tf.convert_to_tensor(np.linspace(1, 7, 4))\n",
    "\n",
    "# Observe that all of these objects are tensors:\n",
    "print(\"tf.ones([3, 2]) = %s\" % t1)\n",
    "print(\"tf.zeros([5]) = %s\" % t2)\n",
    "print(\"tf.random_uniform([1, 3]) = %s\" % t3)\n",
    "print(\"tf.linspace(1.0, 7.0, 4) = %s\" % t4)\n",
    "print(\"tf.convert_to_tensor( np.linspace(1, 7, 4) ) = %s\" % t5)"
   ]
  },
  {
   "cell_type": "markdown",
   "id": "33a5ef69",
   "metadata": {},
   "source": [
    "You can **transform** a tensor **to a numpy array** using ```tensor.numpy()```:"
   ]
  },
  {
   "cell_type": "code",
   "execution_count": 3,
   "id": "0b576f35",
   "metadata": {},
   "outputs": [
    {
     "name": "stdout",
     "output_type": "stream",
     "text": [
      "[[0.6397505  0.4475379  0.7460896 ]\n",
      " [0.40134668 0.6757213  0.14884555]]\n",
      "<class 'numpy.ndarray'>\n"
     ]
    }
   ],
   "source": [
    "print(t3.numpy())        # Conversion to numpy\n",
    "print(type(t3.numpy()))  # Printing the type of the converted array"
   ]
  },
  {
   "cell_type": "markdown",
   "id": "f904ef1e",
   "metadata": {},
   "source": [
    "## Variables\n",
    "On the other hand, ```Variables``` (based on tensors) are objects which are **updated during training** through backpropagation. Each tensorflow variable has to be initialized and their values can be changed using ```variable.assign(new_values)```:"
   ]
  },
  {
   "cell_type": "code",
   "execution_count": 4,
   "id": "a70aa763",
   "metadata": {},
   "outputs": [
    {
     "name": "stdout",
     "output_type": "stream",
     "text": [
      "w = <tf.Variable 'Variable:0' shape=(3, 2) dtype=float32, numpy=\n",
      "array([[0., 0.],\n",
      "       [0., 0.],\n",
      "       [0., 0.]], dtype=float32)>\n",
      "w = <tf.Variable 'Variable:0' shape=(3, 2) dtype=float32, numpy=\n",
      "array([[1., 1.],\n",
      "       [1., 1.],\n",
      "       [1., 1.]], dtype=float32)>\n"
     ]
    }
   ],
   "source": [
    "w = tf.Variable(tf.zeros([3, 2]))   # Create an empty variable w\n",
    "print(\"w = %s\" % w)                 # ...which has zeros only by default\n",
    "w.assign(tf.ones([3, 2]))           # Assign new values to w\n",
    "print(\"w = %s\" % w)                 # ... and retrieve them"
   ]
  },
  {
   "cell_type": "markdown",
   "id": "11af2105",
   "metadata": {},
   "source": [
    "## Fundamental Mathematical Operations\n",
    "Tensorflow supports several basic maths functions out of the box. Compared to numpy, **some operations run by the name** ```reduce_operation(*args)``` like ```reduce_sum``` and ```reduce_mean```.\n",
    "\n",
    "You can find an incomplete list of some basic calls:"
   ]
  },
  {
   "cell_type": "code",
   "execution_count": 5,
   "id": "367e4ba0",
   "metadata": {},
   "outputs": [
    {
     "name": "stdout",
     "output_type": "stream",
     "text": [
      "x = tf.Tensor([0. 1. 2. 3. 4.], shape=(5,), dtype=float32)\n",
      "(x+1)**2 - 2) = tf.Tensor([-1.  2.  7. 14. 23.], shape=(5,), dtype=float32)\n",
      "sin(x) tf.Tensor([ 0.          0.84147096  0.9092974   0.14112    -0.7568025 ], shape=(5,), dtype=float32)\n",
      "sum(x) tf.Tensor(10.0, shape=(), dtype=float32)\n",
      "mean(x) tf.Tensor(2.0, shape=(), dtype=float32)\n"
     ]
    }
   ],
   "source": [
    "x = tf.linspace(0., 4., 5)  # Create a tensor array\n",
    "\n",
    "print(\"x =\", x)\n",
    "print(\"(x+1)**2 - 2) =\", (x + 1.)**2 - 2.)\n",
    "print(\"sin(x)\", tf.sin(x))\n",
    "print(\"sum(x)\", tf.reduce_sum(x))\n",
    "print(\"mean(x)\", tf.reduce_mean(x))"
   ]
  },
  {
   "cell_type": "code",
   "execution_count": 6,
   "id": "57455b4b",
   "metadata": {},
   "outputs": [
    {
     "data": {
      "text/plain": [
       "<tf.Tensor: shape=(2, 3), dtype=float32, numpy=\n",
       "array([[0., 0., 0.],\n",
       "       [0., 0., 0.]], dtype=float32)>"
      ]
     },
     "execution_count": 6,
     "metadata": {},
     "output_type": "execute_result"
    }
   ],
   "source": [
    "# Create some other tensors to showcase arithmatic operations:\n",
    "a = tf.zeros(shape=(2, 3))\n",
    "b = tf.ones(shape=(2, 3))\n",
    "c = tf.ones(shape=(3, 2))\n",
    "\n",
    "# Operators (+, -, /, *) are available\n",
    "a + b  # same as tf.add(a, b)\n",
    "a - b  # same as tf.subtract(a, b)\n",
    "a * b  # same as tf.mul(a, b)\n",
    "a / b  # same as tf.division(a, b)"
   ]
  },
  {
   "cell_type": "code",
   "execution_count": 7,
   "id": "6413d2a9",
   "metadata": {},
   "outputs": [
    {
     "name": "stdout",
     "output_type": "stream",
     "text": [
      "Means: tf.Tensor([-0.00104369 -0.01390716 -0.01302913], shape=(3,), dtype=float32)\n",
      "Stds:  tf.Tensor([0.9872753  0.9919341  0.98851275], shape=(3,), dtype=float32)\n"
     ]
    }
   ],
   "source": [
    "# Create a normal distribution with mean 0 and std 1 of shape (3, 10000):\n",
    "y = tf.random.normal([3, 10000], mean=0, stddev=1)\n",
    "# Evaluate the means and standard deviations along an axis:\n",
    "print(\"Means:\", tf.math.reduce_mean(y, axis=1))\n",
    "print(\"Stds: \", tf.math.reduce_std(y, axis=1))"
   ]
  },
  {
   "cell_type": "markdown",
   "id": "3d32f8a4",
   "metadata": {},
   "source": [
    "### Task: <a class=\"tocSkip\">\n",
    "Implement the mean-square difference function in tensorflow:\n",
    "    $$ L(x, y) = \\sum_i \\frac{(x_i-y_i)^2}{N}$$"
   ]
  },
  {
   "cell_type": "code",
   "execution_count": 8,
   "id": "7aec09c9",
   "metadata": {},
   "outputs": [
    {
     "ename": "SyntaxError",
     "evalue": "invalid syntax (3614834331.py, line 10)",
     "output_type": "error",
     "traceback": [
      "\u001b[0;36m  Input \u001b[0;32mIn [8]\u001b[0;36m\u001b[0m\n\u001b[0;31m    print(loss(x,y))?\u001b[0m\n\u001b[0m                    ^\u001b[0m\n\u001b[0;31mSyntaxError\u001b[0m\u001b[0;31m:\u001b[0m invalid syntax\n"
     ]
    }
   ],
   "source": [
    "def loss(x, y):\n",
    "    # TODO: replace the return term\n",
    "    return 0.\n",
    "\n",
    "# Use these values of x and y to get the variation using L for a uniformly distributed dataset in [0, 1)\n",
    "x = tf.random.uniform([100000])\n",
    "y = tf.ones([100000]) * 0.5\n",
    "\n",
    "# Result should be around 0.083333\n",
    "print(loss(x,y))? "
   ]
  }
 ],
 "metadata": {
  "kernelspec": {
   "display_name": "Python 3 (ipykernel)",
   "language": "python",
   "name": "python3"
  },
  "language_info": {
   "codemirror_mode": {
    "name": "ipython",
    "version": 3
   },
   "file_extension": ".py",
   "mimetype": "text/x-python",
   "name": "python",
   "nbconvert_exporter": "python",
   "pygments_lexer": "ipython3",
   "version": "3.9.12"
  },
  "toc": {
   "base_numbering": 1,
   "nav_menu": {},
   "number_sections": true,
   "sideBar": true,
   "skip_h1_title": true,
   "title_cell": "Table of Contents",
   "title_sidebar": "Contents",
   "toc_cell": false,
   "toc_position": {},
   "toc_section_display": true,
   "toc_window_display": false
  }
 },
 "nbformat": 4,
 "nbformat_minor": 5
}
