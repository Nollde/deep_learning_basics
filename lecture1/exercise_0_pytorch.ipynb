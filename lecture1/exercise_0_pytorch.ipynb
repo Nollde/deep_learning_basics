{
 "cells": [
  {
   "cell_type": "markdown",
   "id": "3881ec5d",
   "metadata": {},
   "source": [
    "# PyTorch Tutorial\n",
    "---------------\n",
    "Welcome to the pytorch tutorial! Here we will go through some of the basics of pytorch.\n",
    "\n",
    "The library can be imported the usual way:"
   ]
  },
  {
   "cell_type": "code",
   "execution_count": 1,
   "id": "e812c4c3",
   "metadata": {},
   "outputs": [],
   "source": [
    "import torch"
   ]
  },
  {
   "cell_type": "markdown",
   "id": "232eb87a",
   "metadata": {},
   "source": [
    "## Tensors"
   ]
  }
 ],
 "metadata": {
  "kernelspec": {
   "display_name": "Python 3 (ipykernel)",
   "language": "python",
   "name": "python3"
  },
  "language_info": {
   "codemirror_mode": {
    "name": "ipython",
    "version": 3
   },
   "file_extension": ".py",
   "mimetype": "text/x-python",
   "name": "python",
   "nbconvert_exporter": "python",
   "pygments_lexer": "ipython3",
   "version": "3.10.4"
  }
 },
 "nbformat": 4,
 "nbformat_minor": 5
}
